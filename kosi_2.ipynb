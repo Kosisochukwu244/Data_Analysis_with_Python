{
 "cells": [
  {
   "cell_type": "code",
   "execution_count": 1,
   "id": "73a72a8a-1500-43bd-8b2f-2d40e2cee94a",
   "metadata": {},
   "outputs": [],
   "source": [
    "import numpy as np\n",
    "import pandas as pd\n",
    "from pandas import Series , DataFrame"
   ]
  },
  {
   "cell_type": "code",
   "execution_count": 2,
   "id": "30ce352d-0a5b-4822-a31f-2abab053d56e",
   "metadata": {},
   "outputs": [
    {
     "data": {
      "text/plain": [
       "0     2\n",
       "1     4\n",
       "2     6\n",
       "3     8\n",
       "4    10\n",
       "dtype: int64"
      ]
     },
     "execution_count": 2,
     "metadata": {},
     "output_type": "execute_result"
    }
   ],
   "source": [
    "obj = Series([2,4,6,8,10])\n",
    "obj"
   ]
  },
  {
   "cell_type": "code",
   "execution_count": 3,
   "id": "572b1194-2c4b-4985-bc41-efa8c23f0bf5",
   "metadata": {},
   "outputs": [
    {
     "data": {
      "text/plain": [
       "array([ 2,  4,  6,  8, 10], dtype=int64)"
      ]
     },
     "execution_count": 3,
     "metadata": {},
     "output_type": "execute_result"
    }
   ],
   "source": [
    "obj.values"
   ]
  },
  {
   "cell_type": "code",
   "execution_count": 4,
   "id": "fa788e5e-27ac-4179-9fbe-8bac16dd0234",
   "metadata": {},
   "outputs": [
    {
     "data": {
      "text/plain": [
       "RangeIndex(start=0, stop=5, step=1)"
      ]
     },
     "execution_count": 4,
     "metadata": {},
     "output_type": "execute_result"
    }
   ],
   "source": [
    "obj.index"
   ]
  },
  {
   "cell_type": "code",
   "execution_count": 8,
   "id": "125d1f6b-ad8f-4f3b-9b09-d336ef4416b9",
   "metadata": {},
   "outputs": [],
   "source": [
    "obj = Series([2,4,6,8,10], index=['a','b','c','d','e'])"
   ]
  },
  {
   "cell_type": "markdown",
   "id": "57c379e9-0e2b-4767-a803-aaef4b709eea",
   "metadata": {},
   "source": []
  },
  {
   "cell_type": "code",
   "execution_count": 9,
   "id": "3b93f762-1667-44fb-bce6-88a116393c5b",
   "metadata": {},
   "outputs": [
    {
     "data": {
      "text/plain": [
       "earlyage    2500\n",
       "adult       1700\n",
       "students    1200\n",
       "fathers     5000\n",
       "dtype: int64"
      ]
     },
     "execution_count": 9,
     "metadata": {},
     "output_type": "execute_result"
    }
   ],
   "source": [
    "price_of_jmpori = Series([2500,1700,1200,5000], index = ['earlyage', 'adult', 'students', 'fathers'])\n",
    "price_of_jmpori\n"
   ]
  },
  {
   "cell_type": "code",
   "execution_count": 10,
   "id": "3f96c173-f4ea-451c-ab9f-32ff242e1ea7",
   "metadata": {},
   "outputs": [
    {
     "data": {
      "text/plain": [
       "1700"
      ]
     },
     "execution_count": 10,
     "metadata": {},
     "output_type": "execute_result"
    }
   ],
   "source": [
    "price_of_jmpori['adult']"
   ]
  },
  {
   "cell_type": "code",
   "execution_count": 11,
   "id": "eb9b060c-a45b-44b6-89f9-7b9be9a5e652",
   "metadata": {},
   "outputs": [
    {
     "data": {
      "text/plain": [
       "earlyage    2500\n",
       "fathers     5000\n",
       "dtype: int64"
      ]
     },
     "execution_count": 11,
     "metadata": {},
     "output_type": "execute_result"
    }
   ],
   "source": [
    "price_of_jmpori[price_of_jmpori > 2000]"
   ]
  },
  {
   "cell_type": "code",
   "execution_count": 12,
   "id": "70031b0a-eed2-418c-93d3-02473a2deb0e",
   "metadata": {},
   "outputs": [
    {
     "data": {
      "text/plain": [
       "False"
      ]
     },
     "execution_count": 12,
     "metadata": {},
     "output_type": "execute_result"
    }
   ],
   "source": [
    "'father' in price_of_jmpori"
   ]
  },
  {
   "cell_type": "code",
   "execution_count": 13,
   "id": "f62ab9c5-50a1-4cf1-b714-7aa588abf7d7",
   "metadata": {},
   "outputs": [
    {
     "data": {
      "text/plain": [
       "True"
      ]
     },
     "execution_count": 13,
     "metadata": {},
     "output_type": "execute_result"
    }
   ],
   "source": [
    "'fathers' in price_of_jmpori "
   ]
  },
  {
   "cell_type": "code",
   "execution_count": 16,
   "id": "ed5339c0-eea0-4ea0-98e7-2ba2d1dbcb16",
   "metadata": {},
   "outputs": [
    {
     "data": {
      "text/plain": [
       "{'earlyage': 2500, 'adult': 1700, 'students': 1200, 'fathers': 5000}"
      ]
     },
     "execution_count": 16,
     "metadata": {},
     "output_type": "execute_result"
    }
   ],
   "source": [
    "price_dict = price_of_jmpori.to_dict()\n",
    "price_dict"
   ]
  },
  {
   "cell_type": "code",
   "execution_count": 19,
   "id": "0be610b6-c015-4a38-baca-0c454804b8f1",
   "metadata": {},
   "outputs": [],
   "source": [
    "price_series = Series(price_dict)"
   ]
  },
  {
   "cell_type": "code",
   "execution_count": null,
   "id": "45185fea-f265-4888-9300-d1572bb964f9",
   "metadata": {},
   "outputs": [],
   "source": []
  },
  {
   "cell_type": "code",
   "execution_count": 21,
   "id": "ce0cbd5b-2d1a-4e4e-bc66-bbe6c3b17997",
   "metadata": {},
   "outputs": [
    {
     "data": {
      "text/plain": [
       "earlyage    2500\n",
       "adult       1700\n",
       "students    1200\n",
       "fathers     5000\n",
       "dtype: int64"
      ]
     },
     "execution_count": 21,
     "metadata": {},
     "output_type": "execute_result"
    }
   ],
   "source": [
    "price_series = Series(price_dict)\n",
    "price_series"
   ]
  },
  {
   "cell_type": "code",
   "execution_count": 22,
   "id": "39026d56-74a4-46c1-9939-d058a1fd1bcb",
   "metadata": {},
   "outputs": [],
   "source": [
    "product_type = ['earlyage','adults','teachers','students','fathers']"
   ]
  },
  {
   "cell_type": "code",
   "execution_count": 25,
   "id": "60f60add-e86e-4490-8808-e83a7e2161eb",
   "metadata": {},
   "outputs": [
    {
     "data": {
      "text/plain": [
       "earlyage    2500.0\n",
       "adults         NaN\n",
       "teachers       NaN\n",
       "students    1200.0\n",
       "fathers     5000.0\n",
       "dtype: float64"
      ]
     },
     "execution_count": 25,
     "metadata": {},
     "output_type": "execute_result"
    }
   ],
   "source": [
    "obj_2 = Series(price_dict, index= product_type)\n",
    "obj_2"
   ]
  },
  {
   "cell_type": "code",
   "execution_count": 26,
   "id": "e4bdafdb-d206-4a2c-b5b3-0d49fc065e24",
   "metadata": {},
   "outputs": [
    {
     "data": {
      "text/plain": [
       "earlyage    False\n",
       "adults       True\n",
       "teachers     True\n",
       "students    False\n",
       "fathers     False\n",
       "dtype: bool"
      ]
     },
     "execution_count": 26,
     "metadata": {},
     "output_type": "execute_result"
    }
   ],
   "source": [
    "pd.isnull(obj_2)"
   ]
  },
  {
   "cell_type": "code",
   "execution_count": 27,
   "id": "9dcff7ea-2a54-49ec-9f5d-c88c6907053b",
   "metadata": {},
   "outputs": [
    {
     "data": {
      "text/plain": [
       "earlyage     True\n",
       "adults      False\n",
       "teachers    False\n",
       "students     True\n",
       "fathers      True\n",
       "dtype: bool"
      ]
     },
     "execution_count": 27,
     "metadata": {},
     "output_type": "execute_result"
    }
   ],
   "source": [
    "pd.notnull(obj_2)"
   ]
  },
  {
   "cell_type": "code",
   "execution_count": 28,
   "id": "fa4deae7-e71d-430d-8e59-2a595db6879b",
   "metadata": {},
   "outputs": [
    {
     "data": {
      "text/plain": [
       "earlyage    2500\n",
       "adult       1700\n",
       "students    1200\n",
       "fathers     5000\n",
       "dtype: int64"
      ]
     },
     "execution_count": 28,
     "metadata": {},
     "output_type": "execute_result"
    }
   ],
   "source": [
    "price_series"
   ]
  },
  {
   "cell_type": "code",
   "execution_count": 30,
   "id": "475f38ba-81a5-4bb3-9ba1-da876066fa12",
   "metadata": {},
   "outputs": [
    {
     "data": {
      "text/plain": [
       "earlyage    2500\n",
       "adult       1700\n",
       "students    1200\n",
       "fathers     5000\n",
       "Name: price of jimpo ori shea butter, dtype: int64"
      ]
     },
     "execution_count": 30,
     "metadata": {},
     "output_type": "execute_result"
    }
   ],
   "source": [
    "price_of_jmpori.name = \"price of jimpo ori shea butter\"\n",
    "price_of_jmpori"
   ]
  },
  {
   "cell_type": "code",
   "execution_count": 31,
   "id": "14b6d174-8b1d-485a-9805-617f8a15bf88",
   "metadata": {},
   "outputs": [
    {
     "data": {
      "text/plain": [
       "array([2500, 1700, 1200, 5000], dtype=int64)"
      ]
     },
     "execution_count": 31,
     "metadata": {},
     "output_type": "execute_result"
    }
   ],
   "source": [
    "price_of_jmpori.values"
   ]
  },
  {
   "cell_type": "code",
   "execution_count": 32,
   "id": "99e07008-2cc8-440b-a29e-34b2fc763869",
   "metadata": {},
   "outputs": [
    {
     "data": {
      "text/plain": [
       "Index(['earlyage', 'adult', 'students', 'fathers'], dtype='object')"
      ]
     },
     "execution_count": 32,
     "metadata": {},
     "output_type": "execute_result"
    }
   ],
   "source": [
    "price_of_jmpori.index"
   ]
  },
  {
   "cell_type": "code",
   "execution_count": 34,
   "id": "e8a629a5-8fa8-45fe-a956-33fd64da1af3",
   "metadata": {},
   "outputs": [
    {
     "data": {
      "text/plain": [
       "my products\n",
       "earlyage    2500\n",
       "adult       1700\n",
       "students    1200\n",
       "fathers     5000\n",
       "Name: price of jimpo ori shea butter, dtype: int64"
      ]
     },
     "execution_count": 34,
     "metadata": {},
     "output_type": "execute_result"
    }
   ],
   "source": [
    "price_of_jmpori.index.name = \"my products\"\n",
    "price_of_jmpori"
   ]
  },
  {
   "cell_type": "code",
   "execution_count": 37,
   "id": "9318ac10-ccb9-4772-8409-de7d030f19ba",
   "metadata": {},
   "outputs": [
    {
     "data": {
      "text/plain": [
       "my products chart\n",
       "earlyage    2500\n",
       "adult       1700\n",
       "students    1200\n",
       "fathers     5000\n",
       "Name: price of jimpo ori shea butter, dtype: int64"
      ]
     },
     "execution_count": 37,
     "metadata": {},
     "output_type": "execute_result"
    }
   ],
   "source": [
    "price_of_jmpori.index.name = \"my products chart\"\n",
    "price_of_jmpori"
   ]
  },
  {
   "cell_type": "code",
   "execution_count": null,
   "id": "6f67e856-2d2f-4972-84b0-4a825cf69205",
   "metadata": {},
   "outputs": [],
   "source": []
  }
 ],
 "metadata": {
  "kernelspec": {
   "display_name": "Python 3 (ipykernel)",
   "language": "python",
   "name": "python3"
  },
  "language_info": {
   "codemirror_mode": {
    "name": "ipython",
    "version": 3
   },
   "file_extension": ".py",
   "mimetype": "text/x-python",
   "name": "python",
   "nbconvert_exporter": "python",
   "pygments_lexer": "ipython3",
   "version": "3.11.7"
  }
 },
 "nbformat": 4,
 "nbformat_minor": 5
}
