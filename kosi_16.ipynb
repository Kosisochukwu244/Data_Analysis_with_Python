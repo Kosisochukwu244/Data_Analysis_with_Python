{
 "cells": [
  {
   "cell_type": "raw",
   "id": "bc880331-331c-449f-a086-0a3f827744d1",
   "metadata": {},
   "source": [
    "duplication in DataFrames"
   ]
  },
  {
   "cell_type": "code",
   "execution_count": 1,
   "id": "d9f0266d-56d5-428a-9a85-1191643494fb",
   "metadata": {},
   "outputs": [],
   "source": [
    "import numpy as np\n",
    "\n",
    "import pandas as pd\n",
    "\n",
    "from pandas import Series, DataFrame "
   ]
  },
  {
   "cell_type": "code",
   "execution_count": 2,
   "id": "cfb92123-1a70-430c-ae59-0f93a797859d",
   "metadata": {},
   "outputs": [
    {
     "data": {
      "text/html": [
       "<div>\n",
       "<style scoped>\n",
       "    .dataframe tbody tr th:only-of-type {\n",
       "        vertical-align: middle;\n",
       "    }\n",
       "\n",
       "    .dataframe tbody tr th {\n",
       "        vertical-align: top;\n",
       "    }\n",
       "\n",
       "    .dataframe thead th {\n",
       "        text-align: right;\n",
       "    }\n",
       "</style>\n",
       "<table border=\"1\" class=\"dataframe\">\n",
       "  <thead>\n",
       "    <tr style=\"text-align: right;\">\n",
       "      <th></th>\n",
       "      <th>key1</th>\n",
       "      <th>key2</th>\n",
       "    </tr>\n",
       "  </thead>\n",
       "  <tbody>\n",
       "    <tr>\n",
       "      <th>0</th>\n",
       "      <td>A</td>\n",
       "      <td>2</td>\n",
       "    </tr>\n",
       "    <tr>\n",
       "      <th>1</th>\n",
       "      <td>A</td>\n",
       "      <td>2</td>\n",
       "    </tr>\n",
       "    <tr>\n",
       "      <th>2</th>\n",
       "      <td>B</td>\n",
       "      <td>2</td>\n",
       "    </tr>\n",
       "    <tr>\n",
       "      <th>3</th>\n",
       "      <td>B</td>\n",
       "      <td>3</td>\n",
       "    </tr>\n",
       "    <tr>\n",
       "      <th>4</th>\n",
       "      <td>B</td>\n",
       "      <td>3</td>\n",
       "    </tr>\n",
       "  </tbody>\n",
       "</table>\n",
       "</div>"
      ],
      "text/plain": [
       "  key1  key2\n",
       "0    A     2\n",
       "1    A     2\n",
       "2    B     2\n",
       "3    B     3\n",
       "4    B     3"
      ]
     },
     "execution_count": 2,
     "metadata": {},
     "output_type": "execute_result"
    }
   ],
   "source": [
    "dframe = DataFrame({'key1':['A']*2 + ['B']*3,\n",
    "                   'key2':[2,2,2,3,3]})\n",
    "dframe"
   ]
  },
  {
   "cell_type": "code",
   "execution_count": 3,
   "id": "3985ec0a-7265-4bf8-8a3e-77a496f10a9a",
   "metadata": {},
   "outputs": [
    {
     "data": {
      "text/plain": [
       "0    False\n",
       "1     True\n",
       "2    False\n",
       "3    False\n",
       "4     True\n",
       "dtype: bool"
      ]
     },
     "execution_count": 3,
     "metadata": {},
     "output_type": "execute_result"
    }
   ],
   "source": [
    "dframe.duplicated()"
   ]
  },
  {
   "cell_type": "code",
   "execution_count": 4,
   "id": "c0ce90dc-fee6-4860-a47a-d03d61524909",
   "metadata": {},
   "outputs": [],
   "source": [
    "# to drop or get rid of duplicates in a table :"
   ]
  },
  {
   "cell_type": "code",
   "execution_count": 5,
   "id": "a5e12755-d695-4288-8585-e9d6bfadf95c",
   "metadata": {},
   "outputs": [
    {
     "data": {
      "text/html": [
       "<div>\n",
       "<style scoped>\n",
       "    .dataframe tbody tr th:only-of-type {\n",
       "        vertical-align: middle;\n",
       "    }\n",
       "\n",
       "    .dataframe tbody tr th {\n",
       "        vertical-align: top;\n",
       "    }\n",
       "\n",
       "    .dataframe thead th {\n",
       "        text-align: right;\n",
       "    }\n",
       "</style>\n",
       "<table border=\"1\" class=\"dataframe\">\n",
       "  <thead>\n",
       "    <tr style=\"text-align: right;\">\n",
       "      <th></th>\n",
       "      <th>key1</th>\n",
       "      <th>key2</th>\n",
       "    </tr>\n",
       "  </thead>\n",
       "  <tbody>\n",
       "    <tr>\n",
       "      <th>0</th>\n",
       "      <td>A</td>\n",
       "      <td>2</td>\n",
       "    </tr>\n",
       "    <tr>\n",
       "      <th>2</th>\n",
       "      <td>B</td>\n",
       "      <td>2</td>\n",
       "    </tr>\n",
       "    <tr>\n",
       "      <th>3</th>\n",
       "      <td>B</td>\n",
       "      <td>3</td>\n",
       "    </tr>\n",
       "  </tbody>\n",
       "</table>\n",
       "</div>"
      ],
      "text/plain": [
       "  key1  key2\n",
       "0    A     2\n",
       "2    B     2\n",
       "3    B     3"
      ]
     },
     "execution_count": 5,
     "metadata": {},
     "output_type": "execute_result"
    }
   ],
   "source": [
    "dframe.drop_duplicates()"
   ]
  },
  {
   "cell_type": "code",
   "execution_count": 6,
   "id": "d6c70383-1eec-4194-a796-c8434e4c52e2",
   "metadata": {},
   "outputs": [],
   "source": [
    "# to specify a certain column to drop duplicates :"
   ]
  },
  {
   "cell_type": "code",
   "execution_count": 7,
   "id": "c154cd22-fc0e-4eb5-924e-1718238e7cc2",
   "metadata": {},
   "outputs": [
    {
     "data": {
      "text/html": [
       "<div>\n",
       "<style scoped>\n",
       "    .dataframe tbody tr th:only-of-type {\n",
       "        vertical-align: middle;\n",
       "    }\n",
       "\n",
       "    .dataframe tbody tr th {\n",
       "        vertical-align: top;\n",
       "    }\n",
       "\n",
       "    .dataframe thead th {\n",
       "        text-align: right;\n",
       "    }\n",
       "</style>\n",
       "<table border=\"1\" class=\"dataframe\">\n",
       "  <thead>\n",
       "    <tr style=\"text-align: right;\">\n",
       "      <th></th>\n",
       "      <th>key1</th>\n",
       "      <th>key2</th>\n",
       "    </tr>\n",
       "  </thead>\n",
       "  <tbody>\n",
       "    <tr>\n",
       "      <th>0</th>\n",
       "      <td>A</td>\n",
       "      <td>2</td>\n",
       "    </tr>\n",
       "    <tr>\n",
       "      <th>3</th>\n",
       "      <td>B</td>\n",
       "      <td>3</td>\n",
       "    </tr>\n",
       "  </tbody>\n",
       "</table>\n",
       "</div>"
      ],
      "text/plain": [
       "  key1  key2\n",
       "0    A     2\n",
       "3    B     3"
      ]
     },
     "execution_count": 7,
     "metadata": {},
     "output_type": "execute_result"
    }
   ],
   "source": [
    "dframe.drop_duplicates(['key2'])"
   ]
  },
  {
   "cell_type": "code",
   "execution_count": 8,
   "id": "b71768ff-b073-4093-b3f1-a970cf2d29fd",
   "metadata": {},
   "outputs": [
    {
     "name": "stderr",
     "output_type": "stream",
     "text": [
      "C:\\Users\\HP\\AppData\\Local\\Temp\\ipykernel_8840\\3130953294.py:1: FutureWarning: DataFrame.replace without 'value' and with non-dict-like 'to_replace' is deprecated and will raise in a future version. Explicitly specify the new values instead.\n",
      "  dframe.replace()\n"
     ]
    },
    {
     "data": {
      "text/html": [
       "<div>\n",
       "<style scoped>\n",
       "    .dataframe tbody tr th:only-of-type {\n",
       "        vertical-align: middle;\n",
       "    }\n",
       "\n",
       "    .dataframe tbody tr th {\n",
       "        vertical-align: top;\n",
       "    }\n",
       "\n",
       "    .dataframe thead th {\n",
       "        text-align: right;\n",
       "    }\n",
       "</style>\n",
       "<table border=\"1\" class=\"dataframe\">\n",
       "  <thead>\n",
       "    <tr style=\"text-align: right;\">\n",
       "      <th></th>\n",
       "      <th>key1</th>\n",
       "      <th>key2</th>\n",
       "    </tr>\n",
       "  </thead>\n",
       "  <tbody>\n",
       "    <tr>\n",
       "      <th>0</th>\n",
       "      <td>A</td>\n",
       "      <td>2</td>\n",
       "    </tr>\n",
       "    <tr>\n",
       "      <th>1</th>\n",
       "      <td>A</td>\n",
       "      <td>2</td>\n",
       "    </tr>\n",
       "    <tr>\n",
       "      <th>2</th>\n",
       "      <td>B</td>\n",
       "      <td>2</td>\n",
       "    </tr>\n",
       "    <tr>\n",
       "      <th>3</th>\n",
       "      <td>B</td>\n",
       "      <td>3</td>\n",
       "    </tr>\n",
       "    <tr>\n",
       "      <th>4</th>\n",
       "      <td>B</td>\n",
       "      <td>3</td>\n",
       "    </tr>\n",
       "  </tbody>\n",
       "</table>\n",
       "</div>"
      ],
      "text/plain": [
       "  key1  key2\n",
       "0    A     2\n",
       "1    A     2\n",
       "2    B     2\n",
       "3    B     3\n",
       "4    B     3"
      ]
     },
     "execution_count": 8,
     "metadata": {},
     "output_type": "execute_result"
    }
   ],
   "source": [
    "dframe.replace()"
   ]
  },
  {
   "cell_type": "code",
   "execution_count": 9,
   "id": "098bc22e-3f66-4c5a-9e76-0600441145d0",
   "metadata": {},
   "outputs": [
    {
     "ename": "TypeError",
     "evalue": "DataFrame.drop_duplicates() got an unexpected keyword argument 'take_last'",
     "output_type": "error",
     "traceback": [
      "\u001b[1;31m---------------------------------------------------------------------------\u001b[0m",
      "\u001b[1;31mTypeError\u001b[0m                                 Traceback (most recent call last)",
      "Cell \u001b[1;32mIn[9], line 1\u001b[0m\n\u001b[1;32m----> 1\u001b[0m dframe\u001b[38;5;241m.\u001b[39mdrop_duplicates([\u001b[38;5;124m'\u001b[39m\u001b[38;5;124mkey1\u001b[39m\u001b[38;5;124m'\u001b[39m], take_last\u001b[38;5;241m=\u001b[39m \u001b[38;5;28;01mTrue\u001b[39;00m)\n",
      "\u001b[1;31mTypeError\u001b[0m: DataFrame.drop_duplicates() got an unexpected keyword argument 'take_last'"
     ]
    }
   ],
   "source": [
    "dframe.drop_duplicates(['key1'], take_last= True)"
   ]
  },
  {
   "cell_type": "code",
   "execution_count": null,
   "id": "cbc475d9-e65b-4cd4-a534-8aa09ad80a28",
   "metadata": {},
   "outputs": [],
   "source": [
    "# mapping"
   ]
  },
  {
   "cell_type": "code",
   "execution_count": null,
   "id": "aa1a3c01-a092-42f0-9c8b-c29e03404077",
   "metadata": {},
   "outputs": [],
   "source": [
    "dframee = DataFrame({'city': ['Port Harcourt','Abuja','calabar'],\n",
    "                    'Altitude': [9000,8000,4000]})\n",
    "dframee"
   ]
  },
  {
   "cell_type": "code",
   "execution_count": null,
   "id": "5b85a8cb-74fd-4cef-a067-6b7668e326c1",
   "metadata": {},
   "outputs": [],
   "source": [
    "state_map = {'Port Harcourt':'Rivers',\n",
    "            'Abuja':'FCT',\n",
    "            'calabar':'Cross-river'}"
   ]
  },
  {
   "cell_type": "code",
   "execution_count": null,
   "id": "20ecd70e-9ac8-470e-9e0a-2695ea0ec720",
   "metadata": {},
   "outputs": [],
   "source": [
    "dframee['State'] = dframee['city'].map(state_map) \n",
    "dframee"
   ]
  },
  {
   "cell_type": "raw",
   "id": "d7400488-91d0-40ec-85d7-c2c855d6d728",
   "metadata": {},
   "source": [
    "on replacing"
   ]
  },
  {
   "cell_type": "code",
   "execution_count": null,
   "id": "86aba2f3-13f6-4ea4-b10e-c77acd87e5c7",
   "metadata": {},
   "outputs": [],
   "source": [
    "ser1 = Series([1,2,3,4,56,4,6,5,6,7,8,99,4,3,0])\n",
    "ser1"
   ]
  },
  {
   "cell_type": "code",
   "execution_count": null,
   "id": "f59c5a60-cf72-4b2e-9269-da7a79dbb709",
   "metadata": {},
   "outputs": [],
   "source": [
    "ser1.replace(6,100)"
   ]
  },
  {
   "cell_type": "code",
   "execution_count": null,
   "id": "c5a75eef-839f-4d87-958a-0c9cdcdfe3b0",
   "metadata": {},
   "outputs": [],
   "source": [
    "ser1.replace({4:np.nan})"
   ]
  },
  {
   "cell_type": "code",
   "execution_count": null,
   "id": "98f491b6-65f0-473a-aabf-2f2ff843de80",
   "metadata": {},
   "outputs": [],
   "source": [
    "dframek = DataFrame(np.arange(12).reshape(3,4),\n",
    "                   index = ['Patient1','Patient2','Patient3'],\n",
    "                   columns = ['AdmitNo','Name','Adress','CallNo'])\n",
    "dframek"
   ]
  },
  {
   "cell_type": "code",
   "execution_count": null,
   "id": "6f218a44-6d98-4ee4-bec6-ae0d54757900",
   "metadata": {},
   "outputs": [],
   "source": [
    "dframek.index.array.map(str.lower)"
   ]
  },
  {
   "cell_type": "code",
   "execution_count": null,
   "id": "54c7be2d-8961-43b8-88d1-5011c274b1a1",
   "metadata": {},
   "outputs": [],
   "source": [
    "dframek.index = dframek.index.map(str.lower)\n",
    "dframek"
   ]
  },
  {
   "cell_type": "code",
   "execution_count": null,
   "id": "7c63de66-60ad-433c-b1be-d7967067a18a",
   "metadata": {},
   "outputs": [],
   "source": [
    "# there's a problem with the above code update : fixed!"
   ]
  },
  {
   "cell_type": "code",
   "execution_count": null,
   "id": "61be71a6-c2cf-42a1-b615-873d9a1554f4",
   "metadata": {},
   "outputs": [],
   "source": [
    "#below we learn how to rename a dataframe"
   ]
  },
  {
   "cell_type": "code",
   "execution_count": null,
   "id": "10c6bca2-bd3f-4b56-9b07-a15567da5e67",
   "metadata": {},
   "outputs": [],
   "source": [
    "dframek.rename(index=str.title,columns=str.upper)"
   ]
  },
  {
   "cell_type": "code",
   "execution_count": null,
   "id": "f14acb89-79c5-41ba-b86f-e62e5afedceb",
   "metadata": {},
   "outputs": [],
   "source": [
    "dframek.rename(index = {'patient1': 'Maryann '},\n",
    "                      columns = {'AdmitNo':'YourNo'})"
   ]
  },
  {
   "cell_type": "code",
   "execution_count": null,
   "id": "2a4f5dcd-0373-4dc6-a3d2-975bf11e54b5",
   "metadata": {},
   "outputs": [],
   "source": [
    "# on Binning "
   ]
  },
  {
   "cell_type": "code",
   "execution_count": null,
   "id": "e7368102-ea94-442b-b2f0-0966f0ffce49",
   "metadata": {},
   "outputs": [],
   "source": [
    "years = [1990,1991,1992,2008,2012,2015,1987,1969,2013,2008,1999]\n"
   ]
  },
  {
   "cell_type": "code",
   "execution_count": null,
   "id": "d844ae6a-bff5-45b0-8f73-3d25289d6b79",
   "metadata": {},
   "outputs": [],
   "source": [
    "decade_bins = [1960,1970,1980,1990,2000,2010,2020]"
   ]
  },
  {
   "cell_type": "code",
   "execution_count": 10,
   "id": "6f145731-9bc6-417f-9f7f-1949a7e46523",
   "metadata": {},
   "outputs": [
    {
     "ename": "NameError",
     "evalue": "name 'years' is not defined",
     "output_type": "error",
     "traceback": [
      "\u001b[1;31m---------------------------------------------------------------------------\u001b[0m",
      "\u001b[1;31mNameError\u001b[0m                                 Traceback (most recent call last)",
      "Cell \u001b[1;32mIn[10], line 1\u001b[0m\n\u001b[1;32m----> 1\u001b[0m dacade_cat \u001b[38;5;241m=\u001b[39m pd\u001b[38;5;241m.\u001b[39mcut(years,decade_bins)\n\u001b[0;32m      2\u001b[0m decade_cat\n",
      "\u001b[1;31mNameError\u001b[0m: name 'years' is not defined"
     ]
    }
   ],
   "source": [
    "dacade_cat = pd.cut(years,decade_bins)\n",
    "decade_cat"
   ]
  },
  {
   "cell_type": "code",
   "execution_count": null,
   "id": "bddb9b72-e2e1-46c4-9737-0a000e5a14a8",
   "metadata": {},
   "outputs": [],
   "source": []
  },
  {
   "cell_type": "code",
   "execution_count": null,
   "id": "bbde88c9-45db-43d3-ae17-4f22eaeb46d8",
   "metadata": {},
   "outputs": [],
   "source": []
  }
 ],
 "metadata": {
  "kernelspec": {
   "display_name": "Python 3 (ipykernel)",
   "language": "python",
   "name": "python3"
  },
  "language_info": {
   "codemirror_mode": {
    "name": "ipython",
    "version": 3
   },
   "file_extension": ".py",
   "mimetype": "text/x-python",
   "name": "python",
   "nbconvert_exporter": "python",
   "pygments_lexer": "ipython3",
   "version": "3.12.4"
  }
 },
 "nbformat": 4,
 "nbformat_minor": 5
}
