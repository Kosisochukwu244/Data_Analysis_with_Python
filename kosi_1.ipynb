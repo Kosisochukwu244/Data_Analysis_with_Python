{
 "cells": [
  {
   "cell_type": "code",
   "execution_count": null,
   "id": "d25b64a1-9b6c-45b6-9384-fe5c850ac40c",
   "metadata": {},
   "outputs": [],
   "source": [
    "print (\"hello world!\")"
   ]
  },
  {
   "cell_type": "raw",
   "id": "ba2a14b7-001f-4f91-b62b-4a51e0f3f212",
   "metadata": {},
   "source": []
  },
  {
   "cell_type": "code",
   "execution_count": null,
   "id": "307d0c04-17c3-4847-8cdd-ee7272d66e20",
   "metadata": {},
   "outputs": [],
   "source": [
    "print (\" shift + enter will run a new cell\")"
   ]
  },
  {
   "cell_type": "code",
   "execution_count": null,
   "id": "ffb1e0fc-df73-4fed-8730-b7a1428b0851",
   "metadata": {},
   "outputs": [],
   "source": [
    "l = [1 , 2 , 3] \n"
   ]
  },
  {
   "cell_type": "code",
   "execution_count": null,
   "id": "fbfb41a4-eb66-485e-8f49-0eacd4e4a1a1",
   "metadata": {},
   "outputs": [],
   "source": [
    "l.sort"
   ]
  },
  {
   "cell_type": "markdown",
   "id": "cd4d0de8-f0ce-447c-b581-d50bd3ff01e3",
   "metadata": {},
   "source": [
    "fgs print (\"aloha kosi\")"
   ]
  },
  {
   "cell_type": "code",
   "execution_count": null,
   "id": "e2929de0-87cd-488f-a32e-0f4715d318ad",
   "metadata": {},
   "outputs": [],
   "source": [
    "#hi hello yes this wont print haha!"
   ]
  },
  {
   "cell_type": "code",
   "execution_count": null,
   "id": "83ab4b34-240c-4c74-b9fd-4bd27fe984ea",
   "metadata": {},
   "outputs": [],
   "source": [
    "''' this too wont'''"
   ]
  },
  {
   "cell_type": "code",
   "execution_count": 1,
   "id": "b9bf95ed-207b-4084-9a06-8bef1f188582",
   "metadata": {},
   "outputs": [
    {
     "data": {
      "text/plain": [
       "'C:\\\\Users\\\\HP'"
      ]
     },
     "execution_count": 1,
     "metadata": {},
     "output_type": "execute_result"
    }
   ],
   "source": [
    "pwd"
   ]
  },
  {
   "cell_type": "code",
   "execution_count": null,
   "id": "538f32a4-7049-4054-9ded-0cc78ba072eb",
   "metadata": {},
   "outputs": [],
   "source": []
  },
  {
   "cell_type": "markdown",
   "id": "6e5e4acf-e98a-4191-b9e8-18d1840b5744",
   "metadata": {},
   "source": [
    "import numpy as np\n",
    "import pandas as pd\n",
    "from pandas import Seiries, DataFrame"
   ]
  },
  {
   "cell_type": "code",
   "execution_count": 5,
   "id": "d8f3509e-6b97-46f2-baa0-14044073de58",
   "metadata": {},
   "outputs": [
    {
     "ename": "NameError",
     "evalue": "name 'series' is not defined",
     "output_type": "error",
     "traceback": [
      "\u001b[1;31m---------------------------------------------------------------------------\u001b[0m",
      "\u001b[1;31mNameError\u001b[0m                                 Traceback (most recent call last)",
      "Cell \u001b[1;32mIn[5], line 1\u001b[0m\n\u001b[1;32m----> 1\u001b[0m obj \u001b[38;5;241m=\u001b[39m series ({\u001b[38;5;241m1\u001b[39m,\u001b[38;5;241m3\u001b[39m,\u001b[38;5;241m5\u001b[39m,\u001b[38;5;241m7\u001b[39m})\n\u001b[0;32m      2\u001b[0m obj\n",
      "\u001b[1;31mNameError\u001b[0m: name 'series' is not defined"
     ]
    }
   ],
   "source": [
    "obj = series ({1,3,5,7})\n",
    "obj"
   ]
  },
  {
   "cell_type": "code",
   "execution_count": null,
   "id": "8a318f56-0aef-47e6-aebf-41b5c76e282d",
   "metadata": {},
   "outputs": [],
   "source": []
  }
 ],
 "metadata": {
  "kernelspec": {
   "display_name": "Python 3 (ipykernel)",
   "language": "python",
   "name": "python3"
  },
  "language_info": {
   "codemirror_mode": {
    "name": "ipython",
    "version": 3
   },
   "file_extension": ".py",
   "mimetype": "text/x-python",
   "name": "python",
   "nbconvert_exporter": "python",
   "pygments_lexer": "ipython3",
   "version": "3.11.7"
  }
 },
 "nbformat": 4,
 "nbformat_minor": 5
}
