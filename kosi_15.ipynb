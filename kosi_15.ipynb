{
 "cells": [
  {
   "cell_type": "code",
   "execution_count": 1,
   "id": "8a4e1d8e-ed02-4c5f-ba9b-5dfd805eeb1c",
   "metadata": {},
   "outputs": [],
   "source": [
    "import numpy as np\n",
    "\n",
    "import pandas as pd\n",
    "\n",
    "from pandas import Series, DataFrame "
   ]
  },
  {
   "cell_type": "code",
   "execution_count": 2,
   "id": "710eb979-2c9b-48e5-bbbf-c78ed73086b1",
   "metadata": {},
   "outputs": [
    {
     "data": {
      "text/plain": [
       "N     2.0\n",
       "G     NaN\n",
       "R     4.0\n",
       "E     6.0\n",
       "Z     NaN\n",
       "C     8.0\n",
       "G     NaN\n",
       "K    10.0\n",
       "dtype: float64"
      ]
     },
     "execution_count": 2,
     "metadata": {},
     "output_type": "execute_result"
    }
   ],
   "source": [
    "ser1 =Series ([2,np.nan,4,6,np.nan,8,np.nan,10], index= ['N','G','R','E','Z','C','G','K'])\n",
    "ser1"
   ]
  },
  {
   "cell_type": "code",
   "execution_count": 3,
   "id": "f7e4d945-9ff9-403a-a512-5fb33b566fef",
   "metadata": {},
   "outputs": [
    {
     "data": {
      "text/plain": [
       "N    0.0\n",
       "G    1.0\n",
       "R    2.0\n",
       "E    3.0\n",
       "Z    4.0\n",
       "C    5.0\n",
       "G    6.0\n",
       "K    7.0\n",
       "dtype: float64"
      ]
     },
     "execution_count": 3,
     "metadata": {},
     "output_type": "execute_result"
    }
   ],
   "source": [
    "ser2 = Series(np.arange(len(ser1)), dtype = np.float64, index = ['N','G','R','E','Z','C','G','K'])\n",
    "ser2"
   ]
  },
  {
   "cell_type": "code",
   "execution_count": 4,
   "id": "40203af3-a304-40a8-b16e-99fad2cb5409",
   "metadata": {},
   "outputs": [],
   "source": [
    "# im trying to pass a conditional statement per se that if ser1 contains null value , it should be filled up with a ser2 value or \n",
    "# should be filled with a ser1 value"
   ]
  },
  {
   "cell_type": "code",
   "execution_count": 5,
   "id": "aa676a46-4c2d-438d-9ca5-12debefd00bd",
   "metadata": {},
   "outputs": [
    {
     "data": {
      "text/plain": [
       "N     2.0\n",
       "G     1.0\n",
       "R     4.0\n",
       "E     6.0\n",
       "Z     4.0\n",
       "C     8.0\n",
       "G     6.0\n",
       "K    10.0\n",
       "dtype: float64"
      ]
     },
     "execution_count": 5,
     "metadata": {},
     "output_type": "execute_result"
    }
   ],
   "source": [
    "Series(np.where(pd.isnull(ser1),ser2,ser1), index = ser1.index)"
   ]
  },
  {
   "cell_type": "markdown",
   "id": "9ff4795a-95cc-4611-bd0b-9024a5a3197d",
   "metadata": {},
   "source": [
    "we can redo  this with calling the combine function but it doesn't seem to work on my ntbk. "
   ]
  },
  {
   "cell_type": "code",
   "execution_count": 6,
   "id": "f057ac8f-f497-4ffe-967f-015879e2bedb",
   "metadata": {},
   "outputs": [],
   "source": [
    "nan = np.nan"
   ]
  },
  {
   "cell_type": "code",
   "execution_count": 8,
   "id": "f27305a9-9a85-4933-bff0-d6de09531e86",
   "metadata": {},
   "outputs": [],
   "source": [
    "OddDframe = DataFrame({'X':[1.,nan,3.,nan],\n",
    "                      'Y':[5.,nan,7.,nan],\n",
    "                      'Z':[9.,nan,11,nan]} ) "
   ]
  },
  {
   "cell_type": "code",
   "execution_count": 9,
   "id": "b4c7a862-aeea-4b71-bdc8-7a0ce5607149",
   "metadata": {},
   "outputs": [],
   "source": [
    "EvenDframe = DataFrame({'X':[2.,4,nan,6.,8.],\n",
    "                      'Y':[nan,10.,12.,14.,16.]})"
   ]
  },
  {
   "cell_type": "code",
   "execution_count": 11,
   "id": "8cb6f96f-5bd3-4272-8d6b-ce66d1bbc5f9",
   "metadata": {},
   "outputs": [
    {
     "data": {
      "text/html": [
       "<div>\n",
       "<style scoped>\n",
       "    .dataframe tbody tr th:only-of-type {\n",
       "        vertical-align: middle;\n",
       "    }\n",
       "\n",
       "    .dataframe tbody tr th {\n",
       "        vertical-align: top;\n",
       "    }\n",
       "\n",
       "    .dataframe thead th {\n",
       "        text-align: right;\n",
       "    }\n",
       "</style>\n",
       "<table border=\"1\" class=\"dataframe\">\n",
       "  <thead>\n",
       "    <tr style=\"text-align: right;\">\n",
       "      <th></th>\n",
       "      <th>X</th>\n",
       "      <th>Y</th>\n",
       "      <th>Z</th>\n",
       "    </tr>\n",
       "  </thead>\n",
       "  <tbody>\n",
       "    <tr>\n",
       "      <th>0</th>\n",
       "      <td>1.0</td>\n",
       "      <td>NaN</td>\n",
       "      <td>7.0</td>\n",
       "    </tr>\n",
       "    <tr>\n",
       "      <th>1</th>\n",
       "      <td>NaN</td>\n",
       "      <td>5.0</td>\n",
       "      <td>NaN</td>\n",
       "    </tr>\n",
       "    <tr>\n",
       "      <th>2</th>\n",
       "      <td>3.0</td>\n",
       "      <td>NaN</td>\n",
       "      <td>11.0</td>\n",
       "    </tr>\n",
       "  </tbody>\n",
       "</table>\n",
       "</div>"
      ],
      "text/plain": [
       "     X    Y     Z\n",
       "0  1.0  NaN   7.0\n",
       "1  NaN  5.0   NaN\n",
       "2  3.0  NaN  11.0"
      ]
     },
     "execution_count": 11,
     "metadata": {},
     "output_type": "execute_result"
    }
   ],
   "source": [
    "OddDframe "
   ]
  },
  {
   "cell_type": "code",
   "execution_count": 12,
   "id": "97c6edca-fdb2-408d-beb2-e596b5c5d1b1",
   "metadata": {},
   "outputs": [
    {
     "data": {
      "text/html": [
       "<div>\n",
       "<style scoped>\n",
       "    .dataframe tbody tr th:only-of-type {\n",
       "        vertical-align: middle;\n",
       "    }\n",
       "\n",
       "    .dataframe tbody tr th {\n",
       "        vertical-align: top;\n",
       "    }\n",
       "\n",
       "    .dataframe thead th {\n",
       "        text-align: right;\n",
       "    }\n",
       "</style>\n",
       "<table border=\"1\" class=\"dataframe\">\n",
       "  <thead>\n",
       "    <tr style=\"text-align: right;\">\n",
       "      <th></th>\n",
       "      <th>X</th>\n",
       "      <th>Y</th>\n",
       "    </tr>\n",
       "  </thead>\n",
       "  <tbody>\n",
       "    <tr>\n",
       "      <th>0</th>\n",
       "      <td>2.0</td>\n",
       "      <td>NaN</td>\n",
       "    </tr>\n",
       "    <tr>\n",
       "      <th>1</th>\n",
       "      <td>4.0</td>\n",
       "      <td>10.0</td>\n",
       "    </tr>\n",
       "    <tr>\n",
       "      <th>2</th>\n",
       "      <td>NaN</td>\n",
       "      <td>12.0</td>\n",
       "    </tr>\n",
       "    <tr>\n",
       "      <th>3</th>\n",
       "      <td>6.0</td>\n",
       "      <td>14.0</td>\n",
       "    </tr>\n",
       "    <tr>\n",
       "      <th>4</th>\n",
       "      <td>8.0</td>\n",
       "      <td>16.0</td>\n",
       "    </tr>\n",
       "  </tbody>\n",
       "</table>\n",
       "</div>"
      ],
      "text/plain": [
       "     X     Y\n",
       "0  2.0   NaN\n",
       "1  4.0  10.0\n",
       "2  NaN  12.0\n",
       "3  6.0  14.0\n",
       "4  8.0  16.0"
      ]
     },
     "execution_count": 12,
     "metadata": {},
     "output_type": "execute_result"
    }
   ],
   "source": [
    "EvenDframe"
   ]
  },
  {
   "cell_type": "code",
   "execution_count": 13,
   "id": "8294264e-9ec4-467e-bb6e-b2b0f893643f",
   "metadata": {},
   "outputs": [
    {
     "data": {
      "text/html": [
       "<div>\n",
       "<style scoped>\n",
       "    .dataframe tbody tr th:only-of-type {\n",
       "        vertical-align: middle;\n",
       "    }\n",
       "\n",
       "    .dataframe tbody tr th {\n",
       "        vertical-align: top;\n",
       "    }\n",
       "\n",
       "    .dataframe thead th {\n",
       "        text-align: right;\n",
       "    }\n",
       "</style>\n",
       "<table border=\"1\" class=\"dataframe\">\n",
       "  <thead>\n",
       "    <tr style=\"text-align: right;\">\n",
       "      <th></th>\n",
       "      <th>X</th>\n",
       "      <th>Y</th>\n",
       "      <th>Z</th>\n",
       "    </tr>\n",
       "  </thead>\n",
       "  <tbody>\n",
       "    <tr>\n",
       "      <th>0</th>\n",
       "      <td>1.0</td>\n",
       "      <td>NaN</td>\n",
       "      <td>7.0</td>\n",
       "    </tr>\n",
       "    <tr>\n",
       "      <th>1</th>\n",
       "      <td>4.0</td>\n",
       "      <td>5.0</td>\n",
       "      <td>NaN</td>\n",
       "    </tr>\n",
       "    <tr>\n",
       "      <th>2</th>\n",
       "      <td>3.0</td>\n",
       "      <td>12.0</td>\n",
       "      <td>11.0</td>\n",
       "    </tr>\n",
       "    <tr>\n",
       "      <th>3</th>\n",
       "      <td>6.0</td>\n",
       "      <td>14.0</td>\n",
       "      <td>NaN</td>\n",
       "    </tr>\n",
       "    <tr>\n",
       "      <th>4</th>\n",
       "      <td>8.0</td>\n",
       "      <td>16.0</td>\n",
       "      <td>NaN</td>\n",
       "    </tr>\n",
       "  </tbody>\n",
       "</table>\n",
       "</div>"
      ],
      "text/plain": [
       "     X     Y     Z\n",
       "0  1.0   NaN   7.0\n",
       "1  4.0   5.0   NaN\n",
       "2  3.0  12.0  11.0\n",
       "3  6.0  14.0   NaN\n",
       "4  8.0  16.0   NaN"
      ]
     },
     "execution_count": 13,
     "metadata": {},
     "output_type": "execute_result"
    }
   ],
   "source": [
    "OddDframe.combine_first(EvenDframe)"
   ]
  },
  {
   "cell_type": "code",
   "execution_count": 14,
   "id": "dc99f2aa-8c54-44a8-b103-261b367089ec",
   "metadata": {},
   "outputs": [
    {
     "data": {
      "text/html": [
       "<div>\n",
       "<style scoped>\n",
       "    .dataframe tbody tr th:only-of-type {\n",
       "        vertical-align: middle;\n",
       "    }\n",
       "\n",
       "    .dataframe tbody tr th {\n",
       "        vertical-align: top;\n",
       "    }\n",
       "\n",
       "    .dataframe thead th {\n",
       "        text-align: right;\n",
       "    }\n",
       "</style>\n",
       "<table border=\"1\" class=\"dataframe\">\n",
       "  <thead>\n",
       "    <tr style=\"text-align: right;\">\n",
       "      <th>course</th>\n",
       "      <th>mct331</th>\n",
       "      <th>eee351</th>\n",
       "      <th>mct342</th>\n",
       "      <th>mct311</th>\n",
       "    </tr>\n",
       "    <tr>\n",
       "      <th>Days</th>\n",
       "      <th></th>\n",
       "      <th></th>\n",
       "      <th></th>\n",
       "      <th></th>\n",
       "    </tr>\n",
       "  </thead>\n",
       "  <tbody>\n",
       "    <tr>\n",
       "      <th>Mon</th>\n",
       "      <td>0</td>\n",
       "      <td>1</td>\n",
       "      <td>2</td>\n",
       "      <td>3</td>\n",
       "    </tr>\n",
       "    <tr>\n",
       "      <th>Tue</th>\n",
       "      <td>4</td>\n",
       "      <td>5</td>\n",
       "      <td>6</td>\n",
       "      <td>7</td>\n",
       "    </tr>\n",
       "  </tbody>\n",
       "</table>\n",
       "</div>"
      ],
      "text/plain": [
       "course  mct331  eee351  mct342  mct311\n",
       "Days                                  \n",
       "Mon          0       1       2       3\n",
       "Tue          4       5       6       7"
      ]
     },
     "execution_count": 14,
     "metadata": {},
     "output_type": "execute_result"
    }
   ],
   "source": [
    "dframe4 = DataFrame(np.arange(8).reshape(2,4),\n",
    "                   index = pd.Index(['Mon','Tue'], name = 'Days'),\n",
    "                   columns = pd.Index(['mct331','eee351','mct342','mct311'],name = 'course'))\n",
    "dframe4"
   ]
  },
  {
   "cell_type": "code",
   "execution_count": 15,
   "id": "a537defc-26ae-46be-b3f3-e6498eda0716",
   "metadata": {},
   "outputs": [],
   "source": [
    "# to stack the columns into becoming index we use the stack()"
   ]
  },
  {
   "cell_type": "code",
   "execution_count": 16,
   "id": "db1f5345-7032-4b0b-af3d-e9f249479ea6",
   "metadata": {},
   "outputs": [
    {
     "data": {
      "text/plain": [
       "Days  course\n",
       "Mon   mct331    0\n",
       "      eee351    1\n",
       "      mct342    2\n",
       "      mct311    3\n",
       "Tue   mct331    4\n",
       "      eee351    5\n",
       "      mct342    6\n",
       "      mct311    7\n",
       "dtype: int32"
      ]
     },
     "execution_count": 16,
     "metadata": {},
     "output_type": "execute_result"
    }
   ],
   "source": [
    "dframe_st = dframe4.stack()\n",
    "dframe_st"
   ]
  },
  {
   "cell_type": "markdown",
   "id": "d3190736-97eb-420d-92be-21bb7cfea848",
   "metadata": {},
   "source": [
    "  to turn back into a DataFrame we use unstack()"
   ]
  },
  {
   "cell_type": "code",
   "execution_count": 17,
   "id": "0e8cc6e1-a273-49ee-a9be-bf942db669c9",
   "metadata": {},
   "outputs": [
    {
     "data": {
      "text/html": [
       "<div>\n",
       "<style scoped>\n",
       "    .dataframe tbody tr th:only-of-type {\n",
       "        vertical-align: middle;\n",
       "    }\n",
       "\n",
       "    .dataframe tbody tr th {\n",
       "        vertical-align: top;\n",
       "    }\n",
       "\n",
       "    .dataframe thead th {\n",
       "        text-align: right;\n",
       "    }\n",
       "</style>\n",
       "<table border=\"1\" class=\"dataframe\">\n",
       "  <thead>\n",
       "    <tr style=\"text-align: right;\">\n",
       "      <th>course</th>\n",
       "      <th>mct331</th>\n",
       "      <th>eee351</th>\n",
       "      <th>mct342</th>\n",
       "      <th>mct311</th>\n",
       "    </tr>\n",
       "    <tr>\n",
       "      <th>Days</th>\n",
       "      <th></th>\n",
       "      <th></th>\n",
       "      <th></th>\n",
       "      <th></th>\n",
       "    </tr>\n",
       "  </thead>\n",
       "  <tbody>\n",
       "    <tr>\n",
       "      <th>Mon</th>\n",
       "      <td>0</td>\n",
       "      <td>1</td>\n",
       "      <td>2</td>\n",
       "      <td>3</td>\n",
       "    </tr>\n",
       "    <tr>\n",
       "      <th>Tue</th>\n",
       "      <td>4</td>\n",
       "      <td>5</td>\n",
       "      <td>6</td>\n",
       "      <td>7</td>\n",
       "    </tr>\n",
       "  </tbody>\n",
       "</table>\n",
       "</div>"
      ],
      "text/plain": [
       "course  mct331  eee351  mct342  mct311\n",
       "Days                                  \n",
       "Mon          0       1       2       3\n",
       "Tue          4       5       6       7"
      ]
     },
     "execution_count": 17,
     "metadata": {},
     "output_type": "execute_result"
    }
   ],
   "source": [
    "dframe_st.unstack()"
   ]
  },
  {
   "cell_type": "code",
   "execution_count": 18,
   "id": "718badb5-08f8-4b18-b4f6-268e7ac1131c",
   "metadata": {},
   "outputs": [
    {
     "data": {
      "text/html": [
       "<div>\n",
       "<style scoped>\n",
       "    .dataframe tbody tr th:only-of-type {\n",
       "        vertical-align: middle;\n",
       "    }\n",
       "\n",
       "    .dataframe tbody tr th {\n",
       "        vertical-align: top;\n",
       "    }\n",
       "\n",
       "    .dataframe thead th {\n",
       "        text-align: right;\n",
       "    }\n",
       "</style>\n",
       "<table border=\"1\" class=\"dataframe\">\n",
       "  <thead>\n",
       "    <tr style=\"text-align: right;\">\n",
       "      <th>Days</th>\n",
       "      <th>Mon</th>\n",
       "      <th>Tue</th>\n",
       "    </tr>\n",
       "    <tr>\n",
       "      <th>course</th>\n",
       "      <th></th>\n",
       "      <th></th>\n",
       "    </tr>\n",
       "  </thead>\n",
       "  <tbody>\n",
       "    <tr>\n",
       "      <th>mct331</th>\n",
       "      <td>0</td>\n",
       "      <td>4</td>\n",
       "    </tr>\n",
       "    <tr>\n",
       "      <th>eee351</th>\n",
       "      <td>1</td>\n",
       "      <td>5</td>\n",
       "    </tr>\n",
       "    <tr>\n",
       "      <th>mct342</th>\n",
       "      <td>2</td>\n",
       "      <td>6</td>\n",
       "    </tr>\n",
       "    <tr>\n",
       "      <th>mct311</th>\n",
       "      <td>3</td>\n",
       "      <td>7</td>\n",
       "    </tr>\n",
       "  </tbody>\n",
       "</table>\n",
       "</div>"
      ],
      "text/plain": [
       "Days    Mon  Tue\n",
       "course          \n",
       "mct331    0    4\n",
       "eee351    1    5\n",
       "mct342    2    6\n",
       "mct311    3    7"
      ]
     },
     "execution_count": 18,
     "metadata": {},
     "output_type": "execute_result"
    }
   ],
   "source": [
    "dframe_st.unstack('Days')"
   ]
  },
  {
   "cell_type": "code",
   "execution_count": 19,
   "id": "5497069b-62f8-4f89-8904-9101d2684649",
   "metadata": {},
   "outputs": [],
   "source": [
    "ser4 = Series(['A','A','A'], index =['mct342','mct311','mct331'])\n",
    "ser5 = Series(['A','A','A'], index =['ece371','mct301','mct302'])"
   ]
  },
  {
   "cell_type": "code",
   "execution_count": 20,
   "id": "aa5fc74a-b173-449c-add0-e337951c5366",
   "metadata": {},
   "outputs": [
    {
     "data": {
      "text/plain": [
       "very good  mct342    A\n",
       "           mct311    A\n",
       "           mct331    A\n",
       "excellent  ece371    A\n",
       "           mct301    A\n",
       "           mct302    A\n",
       "dtype: object"
      ]
     },
     "execution_count": 20,
     "metadata": {},
     "output_type": "execute_result"
    }
   ],
   "source": [
    "dframe6 = pd.concat([ser4,ser5],keys= ['very good','excellent'])\n",
    "dframe6"
   ]
  },
  {
   "cell_type": "code",
   "execution_count": 21,
   "id": "ce7bed6e-09f0-455e-b634-971f2374386a",
   "metadata": {},
   "outputs": [
    {
     "data": {
      "text/html": [
       "<div>\n",
       "<style scoped>\n",
       "    .dataframe tbody tr th:only-of-type {\n",
       "        vertical-align: middle;\n",
       "    }\n",
       "\n",
       "    .dataframe tbody tr th {\n",
       "        vertical-align: top;\n",
       "    }\n",
       "\n",
       "    .dataframe thead th {\n",
       "        text-align: right;\n",
       "    }\n",
       "</style>\n",
       "<table border=\"1\" class=\"dataframe\">\n",
       "  <thead>\n",
       "    <tr style=\"text-align: right;\">\n",
       "      <th></th>\n",
       "      <th>ece371</th>\n",
       "      <th>mct301</th>\n",
       "      <th>mct302</th>\n",
       "      <th>mct311</th>\n",
       "      <th>mct331</th>\n",
       "      <th>mct342</th>\n",
       "    </tr>\n",
       "  </thead>\n",
       "  <tbody>\n",
       "    <tr>\n",
       "      <th>very good</th>\n",
       "      <td>NaN</td>\n",
       "      <td>NaN</td>\n",
       "      <td>NaN</td>\n",
       "      <td>A</td>\n",
       "      <td>A</td>\n",
       "      <td>A</td>\n",
       "    </tr>\n",
       "    <tr>\n",
       "      <th>excellent</th>\n",
       "      <td>A</td>\n",
       "      <td>A</td>\n",
       "      <td>A</td>\n",
       "      <td>NaN</td>\n",
       "      <td>NaN</td>\n",
       "      <td>NaN</td>\n",
       "    </tr>\n",
       "  </tbody>\n",
       "</table>\n",
       "</div>"
      ],
      "text/plain": [
       "          ece371 mct301 mct302 mct311 mct331 mct342\n",
       "very good    NaN    NaN    NaN      A      A      A\n",
       "excellent      A      A      A    NaN    NaN    NaN"
      ]
     },
     "execution_count": 21,
     "metadata": {},
     "output_type": "execute_result"
    }
   ],
   "source": [
    "dframe6.unstack()"
   ]
  },
  {
   "cell_type": "code",
   "execution_count": 24,
   "id": "bbef3106-676c-4311-9743-aa49d7a5fdba",
   "metadata": {},
   "outputs": [
    {
     "data": {
      "text/plain": [
       "very good  mct311    A\n",
       "           mct331    A\n",
       "           mct342    A\n",
       "excellent  ece371    A\n",
       "           mct301    A\n",
       "           mct302    A\n",
       "dtype: object"
      ]
     },
     "execution_count": 24,
     "metadata": {},
     "output_type": "execute_result"
    }
   ],
   "source": [
    "dframe6.unstack().stack()"
   ]
  },
  {
   "cell_type": "code",
   "execution_count": null,
   "id": "a5d55dc3-9807-4491-89f3-0f0fd7f754d2",
   "metadata": {},
   "outputs": [],
   "source": []
  },
  {
   "cell_type": "code",
   "execution_count": null,
   "id": "16add835-5272-43b1-bb26-4c1df49f6aac",
   "metadata": {},
   "outputs": [],
   "source": []
  }
 ],
 "metadata": {
  "kernelspec": {
   "display_name": "Python 3 (ipykernel)",
   "language": "python",
   "name": "python3"
  },
  "language_info": {
   "codemirror_mode": {
    "name": "ipython",
    "version": 3
   },
   "file_extension": ".py",
   "mimetype": "text/x-python",
   "name": "python",
   "nbconvert_exporter": "python",
   "pygments_lexer": "ipython3",
   "version": "3.11.7"
  }
 },
 "nbformat": 4,
 "nbformat_minor": 5
}
