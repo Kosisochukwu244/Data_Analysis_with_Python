{
 "cells": [
  {
   "cell_type": "code",
   "execution_count": 1,
   "id": "f648f9bc-2766-4cfb-8595-14b39bb72655",
   "metadata": {},
   "outputs": [],
   "source": [
    "import numpy as np\n",
    "\n",
    "import pandas as pd\n",
    "\n",
    "from pandas import Series, DataFrame "
   ]
  },
  {
   "cell_type": "code",
   "execution_count": 2,
   "id": "52a05dbc-6016-4572-93b1-0bb6f4782d44",
   "metadata": {},
   "outputs": [
    {
     "data": {
      "text/html": [
       "<div>\n",
       "<style scoped>\n",
       "    .dataframe tbody tr th:only-of-type {\n",
       "        vertical-align: middle;\n",
       "    }\n",
       "\n",
       "    .dataframe tbody tr th {\n",
       "        vertical-align: top;\n",
       "    }\n",
       "\n",
       "    .dataframe thead th {\n",
       "        text-align: right;\n",
       "    }\n",
       "</style>\n",
       "<table border=\"1\" class=\"dataframe\">\n",
       "  <thead>\n",
       "    <tr style=\"text-align: right;\">\n",
       "      <th></th>\n",
       "      <th>k1</th>\n",
       "      <th>k2</th>\n",
       "      <th>dset1</th>\n",
       "      <th>dset2</th>\n",
       "    </tr>\n",
       "  </thead>\n",
       "  <tbody>\n",
       "    <tr>\n",
       "      <th>0</th>\n",
       "      <td>X</td>\n",
       "      <td>alpha</td>\n",
       "      <td>-1.810550</td>\n",
       "      <td>0.794812</td>\n",
       "    </tr>\n",
       "    <tr>\n",
       "      <th>1</th>\n",
       "      <td>X</td>\n",
       "      <td>beta</td>\n",
       "      <td>-0.312680</td>\n",
       "      <td>-0.144433</td>\n",
       "    </tr>\n",
       "    <tr>\n",
       "      <th>2</th>\n",
       "      <td>Y</td>\n",
       "      <td>alpha</td>\n",
       "      <td>0.305235</td>\n",
       "      <td>0.118294</td>\n",
       "    </tr>\n",
       "    <tr>\n",
       "      <th>3</th>\n",
       "      <td>Y</td>\n",
       "      <td>beta</td>\n",
       "      <td>-1.427905</td>\n",
       "      <td>-1.170210</td>\n",
       "    </tr>\n",
       "    <tr>\n",
       "      <th>4</th>\n",
       "      <td>Z</td>\n",
       "      <td>alpha</td>\n",
       "      <td>1.304895</td>\n",
       "      <td>1.742246</td>\n",
       "    </tr>\n",
       "  </tbody>\n",
       "</table>\n",
       "</div>"
      ],
      "text/plain": [
       "  k1     k2     dset1     dset2\n",
       "0  X  alpha -1.810550  0.794812\n",
       "1  X   beta -0.312680 -0.144433\n",
       "2  Y  alpha  0.305235  0.118294\n",
       "3  Y   beta -1.427905 -1.170210\n",
       "4  Z  alpha  1.304895  1.742246"
      ]
     },
     "execution_count": 2,
     "metadata": {},
     "output_type": "execute_result"
    }
   ],
   "source": [
    "dframe1 = DataFrame({'k1': ['X','X','Y','Y','Z'],\n",
    "                    'k2': ['alpha','beta','alpha','beta','alpha'],\n",
    "                    'dset1': np.random.randn(5),\n",
    "                    'dset2':np.random.randn(5)})\n",
    "dframe1"
   ]
  },
  {
   "cell_type": "code",
   "execution_count": 3,
   "id": "4342fd4f-5705-4351-b572-4cddad300faa",
   "metadata": {},
   "outputs": [
    {
     "data": {
      "text/plain": [
       "<pandas.core.groupby.generic.SeriesGroupBy object at 0x000001E40D609110>"
      ]
     },
     "execution_count": 3,
     "metadata": {},
     "output_type": "execute_result"
    }
   ],
   "source": [
    "grp1 = dframe1['dset1'].groupby(dframe1['k1'])\n",
    "grp1"
   ]
  },
  {
   "cell_type": "code",
   "execution_count": 4,
   "id": "1c58c6fa-a5ce-4d17-9048-98f902284d01",
   "metadata": {},
   "outputs": [
    {
     "data": {
      "text/plain": [
       "k1\n",
       "X   -1.061615\n",
       "Y   -0.561335\n",
       "Z    1.304895\n",
       "Name: dset1, dtype: float64"
      ]
     },
     "execution_count": 4,
     "metadata": {},
     "output_type": "execute_result"
    }
   ],
   "source": [
    "grp1.mean()"
   ]
  },
  {
   "cell_type": "code",
   "execution_count": 5,
   "id": "669beddd-19f7-4b73-904e-a1c29e5883a6",
   "metadata": {},
   "outputs": [
    {
     "data": {
      "text/plain": [
       "<pandas.core.groupby.generic.SeriesGroupBy object at 0x000001E40D609110>"
      ]
     },
     "execution_count": 5,
     "metadata": {},
     "output_type": "execute_result"
    }
   ],
   "source": [
    "grp1"
   ]
  },
  {
   "cell_type": "code",
   "execution_count": 6,
   "id": "8d1a441d-48a2-4033-a091-aa376717ce97",
   "metadata": {},
   "outputs": [],
   "source": [
    "cities = np.array(['Enugu','Enugu','Kano','Kano','Lagos'])\n",
    "\n",
    "months = np.array(['Jan','Feb','Jan','Feb','Jan'])"
   ]
  },
  {
   "cell_type": "code",
   "execution_count": 7,
   "id": "726929af-bc54-4886-afef-9f2ea57d784a",
   "metadata": {},
   "outputs": [
    {
     "data": {
      "text/plain": [
       "array(['Enugu', 'Enugu', 'Kano', 'Kano', 'Lagos'], dtype='<U5')"
      ]
     },
     "execution_count": 7,
     "metadata": {},
     "output_type": "execute_result"
    }
   ],
   "source": [
    "cities"
   ]
  },
  {
   "cell_type": "code",
   "execution_count": 8,
   "id": "11b5e533-320b-4828-aa21-ed71f279b497",
   "metadata": {},
   "outputs": [
    {
     "data": {
      "text/plain": [
       "array(['Jan', 'Feb', 'Jan', 'Feb', 'Jan'], dtype='<U3')"
      ]
     },
     "execution_count": 8,
     "metadata": {},
     "output_type": "execute_result"
    }
   ],
   "source": [
    "months"
   ]
  },
  {
   "cell_type": "code",
   "execution_count": 9,
   "id": "a8bb96ab-41b6-4d2d-812b-23618abc7674",
   "metadata": {},
   "outputs": [
    {
     "data": {
      "text/plain": [
       "Enugu  Feb   -0.144433\n",
       "       Jan    0.794812\n",
       "Kano   Feb   -1.170210\n",
       "       Jan    0.118294\n",
       "Lagos  Jan    1.742246\n",
       "Name: dset2, dtype: float64"
      ]
     },
     "execution_count": 9,
     "metadata": {},
     "output_type": "execute_result"
    }
   ],
   "source": [
    "dframe1['dset2'].groupby([cities,months ]).mean()"
   ]
  },
  {
   "cell_type": "code",
   "execution_count": 10,
   "id": "5a7f44e3-6c11-4a4e-a40e-4f93b04247f9",
   "metadata": {},
   "outputs": [
    {
     "data": {
      "text/html": [
       "<div>\n",
       "<style scoped>\n",
       "    .dataframe tbody tr th:only-of-type {\n",
       "        vertical-align: middle;\n",
       "    }\n",
       "\n",
       "    .dataframe tbody tr th {\n",
       "        vertical-align: top;\n",
       "    }\n",
       "\n",
       "    .dataframe thead th {\n",
       "        text-align: right;\n",
       "    }\n",
       "</style>\n",
       "<table border=\"1\" class=\"dataframe\">\n",
       "  <thead>\n",
       "    <tr style=\"text-align: right;\">\n",
       "      <th></th>\n",
       "      <th>k1</th>\n",
       "      <th>k2</th>\n",
       "      <th>dset1</th>\n",
       "      <th>dset2</th>\n",
       "    </tr>\n",
       "  </thead>\n",
       "  <tbody>\n",
       "    <tr>\n",
       "      <th>0</th>\n",
       "      <td>X</td>\n",
       "      <td>alpha</td>\n",
       "      <td>-1.810550</td>\n",
       "      <td>0.794812</td>\n",
       "    </tr>\n",
       "    <tr>\n",
       "      <th>1</th>\n",
       "      <td>X</td>\n",
       "      <td>beta</td>\n",
       "      <td>-0.312680</td>\n",
       "      <td>-0.144433</td>\n",
       "    </tr>\n",
       "    <tr>\n",
       "      <th>2</th>\n",
       "      <td>Y</td>\n",
       "      <td>alpha</td>\n",
       "      <td>0.305235</td>\n",
       "      <td>0.118294</td>\n",
       "    </tr>\n",
       "    <tr>\n",
       "      <th>3</th>\n",
       "      <td>Y</td>\n",
       "      <td>beta</td>\n",
       "      <td>-1.427905</td>\n",
       "      <td>-1.170210</td>\n",
       "    </tr>\n",
       "    <tr>\n",
       "      <th>4</th>\n",
       "      <td>Z</td>\n",
       "      <td>alpha</td>\n",
       "      <td>1.304895</td>\n",
       "      <td>1.742246</td>\n",
       "    </tr>\n",
       "  </tbody>\n",
       "</table>\n",
       "</div>"
      ],
      "text/plain": [
       "  k1     k2     dset1     dset2\n",
       "0  X  alpha -1.810550  0.794812\n",
       "1  X   beta -0.312680 -0.144433\n",
       "2  Y  alpha  0.305235  0.118294\n",
       "3  Y   beta -1.427905 -1.170210\n",
       "4  Z  alpha  1.304895  1.742246"
      ]
     },
     "execution_count": 10,
     "metadata": {},
     "output_type": "execute_result"
    }
   ],
   "source": [
    "dframe1"
   ]
  },
  {
   "cell_type": "code",
   "execution_count": 12,
   "id": "28940cc2-cb14-48a6-83d3-e9302daeb0c4",
   "metadata": {},
   "outputs": [
    {
     "data": {
      "text/html": [
       "<div>\n",
       "<style scoped>\n",
       "    .dataframe tbody tr th:only-of-type {\n",
       "        vertical-align: middle;\n",
       "    }\n",
       "\n",
       "    .dataframe tbody tr th {\n",
       "        vertical-align: top;\n",
       "    }\n",
       "\n",
       "    .dataframe thead th {\n",
       "        text-align: right;\n",
       "    }\n",
       "</style>\n",
       "<table border=\"1\" class=\"dataframe\">\n",
       "  <thead>\n",
       "    <tr style=\"text-align: right;\">\n",
       "      <th></th>\n",
       "      <th>k1</th>\n",
       "      <th>k2</th>\n",
       "      <th>dset1</th>\n",
       "      <th>dset2</th>\n",
       "    </tr>\n",
       "  </thead>\n",
       "  <tbody>\n",
       "    <tr>\n",
       "      <th>0</th>\n",
       "      <td>X</td>\n",
       "      <td>alpha</td>\n",
       "      <td>-1.810550</td>\n",
       "      <td>0.794812</td>\n",
       "    </tr>\n",
       "    <tr>\n",
       "      <th>1</th>\n",
       "      <td>X</td>\n",
       "      <td>beta</td>\n",
       "      <td>-0.312680</td>\n",
       "      <td>-0.144433</td>\n",
       "    </tr>\n",
       "    <tr>\n",
       "      <th>2</th>\n",
       "      <td>Y</td>\n",
       "      <td>alpha</td>\n",
       "      <td>0.305235</td>\n",
       "      <td>0.118294</td>\n",
       "    </tr>\n",
       "    <tr>\n",
       "      <th>3</th>\n",
       "      <td>Y</td>\n",
       "      <td>beta</td>\n",
       "      <td>-1.427905</td>\n",
       "      <td>-1.170210</td>\n",
       "    </tr>\n",
       "    <tr>\n",
       "      <th>4</th>\n",
       "      <td>Z</td>\n",
       "      <td>alpha</td>\n",
       "      <td>1.304895</td>\n",
       "      <td>1.742246</td>\n",
       "    </tr>\n",
       "  </tbody>\n",
       "</table>\n",
       "</div>"
      ],
      "text/plain": [
       "  k1     k2     dset1     dset2\n",
       "0  X  alpha -1.810550  0.794812\n",
       "1  X   beta -0.312680 -0.144433\n",
       "2  Y  alpha  0.305235  0.118294\n",
       "3  Y   beta -1.427905 -1.170210\n",
       "4  Z  alpha  1.304895  1.742246"
      ]
     },
     "execution_count": 12,
     "metadata": {},
     "output_type": "execute_result"
    }
   ],
   "source": [
    "dframe1"
   ]
  },
  {
   "cell_type": "code",
   "execution_count": 18,
   "id": "e20566b1-9736-4229-b013-6e97cab36ad7",
   "metadata": {},
   "outputs": [
    {
     "data": {
      "text/html": [
       "<div>\n",
       "<style scoped>\n",
       "    .dataframe tbody tr th:only-of-type {\n",
       "        vertical-align: middle;\n",
       "    }\n",
       "\n",
       "    .dataframe tbody tr th {\n",
       "        vertical-align: top;\n",
       "    }\n",
       "\n",
       "    .dataframe thead th {\n",
       "        text-align: right;\n",
       "    }\n",
       "</style>\n",
       "<table border=\"1\" class=\"dataframe\">\n",
       "  <thead>\n",
       "    <tr style=\"text-align: right;\">\n",
       "      <th></th>\n",
       "      <th></th>\n",
       "      <th>dset1</th>\n",
       "      <th>dset2</th>\n",
       "    </tr>\n",
       "    <tr>\n",
       "      <th>k1</th>\n",
       "      <th>k2</th>\n",
       "      <th></th>\n",
       "      <th></th>\n",
       "    </tr>\n",
       "  </thead>\n",
       "  <tbody>\n",
       "    <tr>\n",
       "      <th rowspan=\"2\" valign=\"top\">X</th>\n",
       "      <th>alpha</th>\n",
       "      <td>-1.810550</td>\n",
       "      <td>0.794812</td>\n",
       "    </tr>\n",
       "    <tr>\n",
       "      <th>beta</th>\n",
       "      <td>-0.312680</td>\n",
       "      <td>-0.144433</td>\n",
       "    </tr>\n",
       "    <tr>\n",
       "      <th rowspan=\"2\" valign=\"top\">Y</th>\n",
       "      <th>alpha</th>\n",
       "      <td>0.305235</td>\n",
       "      <td>0.118294</td>\n",
       "    </tr>\n",
       "    <tr>\n",
       "      <th>beta</th>\n",
       "      <td>-1.427905</td>\n",
       "      <td>-1.170210</td>\n",
       "    </tr>\n",
       "    <tr>\n",
       "      <th>Z</th>\n",
       "      <th>alpha</th>\n",
       "      <td>1.304895</td>\n",
       "      <td>1.742246</td>\n",
       "    </tr>\n",
       "  </tbody>\n",
       "</table>\n",
       "</div>"
      ],
      "text/plain": [
       "             dset1     dset2\n",
       "k1 k2                       \n",
       "X  alpha -1.810550  0.794812\n",
       "   beta  -0.312680 -0.144433\n",
       "Y  alpha  0.305235  0.118294\n",
       "   beta  -1.427905 -1.170210\n",
       "Z  alpha  1.304895  1.742246"
      ]
     },
     "execution_count": 18,
     "metadata": {},
     "output_type": "execute_result"
    }
   ],
   "source": [
    "dframe1.groupby(['k1', 'k2']).mean()"
   ]
  },
  {
   "cell_type": "code",
   "execution_count": 22,
   "id": "28f10e76-1b6a-4710-9ba8-ec5152472197",
   "metadata": {},
   "outputs": [
    {
     "data": {
      "text/plain": [
       "k1\n",
       "X    2\n",
       "Y    2\n",
       "Z    1\n",
       "dtype: int64"
      ]
     },
     "execution_count": 22,
     "metadata": {},
     "output_type": "execute_result"
    }
   ],
   "source": [
    "dframe1.groupby('k1').size() # gets the number of Xs and Ys present"
   ]
  },
  {
   "cell_type": "code",
   "execution_count": 29,
   "id": "40fbcc81-0f2f-495e-ad04-d4de24993772",
   "metadata": {},
   "outputs": [
    {
     "name": "stdout",
     "output_type": "stream",
     "text": [
      "This is the alpha group\n",
      "  k1     k2     dset1     dset2\n",
      "0  X  alpha -1.810550  0.794812\n",
      "2  Y  alpha  0.305235  0.118294\n",
      "4  Z  alpha  1.304895  1.742246\n",
      "\n",
      "\n",
      "This is the beta group\n",
      "  k1    k2     dset1     dset2\n",
      "1  X  beta -0.312680 -0.144433\n",
      "3  Y  beta -1.427905 -1.170210\n",
      "\n",
      "\n"
     ]
    }
   ],
   "source": [
    "for name,group in dframe1.groupby('k2'):\n",
    "    print ('This is the %s group' %name)\n",
    "    print (group)\n",
    "    print ('\\n')"
   ]
  },
  {
   "cell_type": "code",
   "execution_count": 33,
   "id": "185af309-1612-4e3f-a20e-50389b756b0c",
   "metadata": {},
   "outputs": [
    {
     "name": "stdout",
     "output_type": "stream",
     "text": [
      "key1 = X, key2 = alpha\n",
      "  k1     k2    dset1     dset2\n",
      "0  X  alpha -1.81055  0.794812\n",
      "\n",
      "\n",
      "key1 = X, key2 = beta\n",
      "  k1    k2    dset1     dset2\n",
      "1  X  beta -0.31268 -0.144433\n",
      "\n",
      "\n",
      "key1 = Y, key2 = alpha\n",
      "  k1     k2     dset1     dset2\n",
      "2  Y  alpha  0.305235  0.118294\n",
      "\n",
      "\n",
      "key1 = Y, key2 = beta\n",
      "  k1    k2     dset1    dset2\n",
      "3  Y  beta -1.427905 -1.17021\n",
      "\n",
      "\n",
      "key1 = Z, key2 = alpha\n",
      "  k1     k2     dset1     dset2\n",
      "4  Z  alpha  1.304895  1.742246\n",
      "\n",
      "\n"
     ]
    }
   ],
   "source": [
    "for (k1,k2), group in dframe1.groupby(['k1','k2']) :\n",
    "     print ('key1 = %s, key2 = %s' %(k1,k2))\n",
    "     print (group)\n",
    "     print('\\n')"
   ]
  },
  {
   "cell_type": "code",
   "execution_count": 37,
   "id": "461623df-8142-438b-939d-9f4d5b9aedfe",
   "metadata": {},
   "outputs": [
    {
     "data": {
      "text/plain": [
       "{'alpha':   k1     k2     dset1     dset2\n",
       " 0  X  alpha -1.810550  0.794812\n",
       " 2  Y  alpha  0.305235  0.118294\n",
       " 4  Z  alpha  1.304895  1.742246,\n",
       " 'beta':   k1    k2     dset1     dset2\n",
       " 1  X  beta -0.312680 -0.144433\n",
       " 3  Y  beta -1.427905 -1.170210}"
      ]
     },
     "execution_count": 37,
     "metadata": {},
     "output_type": "execute_result"
    }
   ],
   "source": [
    "grp_dict = dict(list(dframe1.groupby('k2')))\n",
    "grp_dict"
   ]
  },
  {
   "cell_type": "code",
   "execution_count": 35,
   "id": "1a6fbca7-08f1-4b8e-8be0-422d065c9d5a",
   "metadata": {},
   "outputs": [
    {
     "data": {
      "text/html": [
       "<div>\n",
       "<style scoped>\n",
       "    .dataframe tbody tr th:only-of-type {\n",
       "        vertical-align: middle;\n",
       "    }\n",
       "\n",
       "    .dataframe tbody tr th {\n",
       "        vertical-align: top;\n",
       "    }\n",
       "\n",
       "    .dataframe thead th {\n",
       "        text-align: right;\n",
       "    }\n",
       "</style>\n",
       "<table border=\"1\" class=\"dataframe\">\n",
       "  <thead>\n",
       "    <tr style=\"text-align: right;\">\n",
       "      <th></th>\n",
       "      <th>k1</th>\n",
       "      <th>k2</th>\n",
       "      <th>dset1</th>\n",
       "      <th>dset2</th>\n",
       "    </tr>\n",
       "  </thead>\n",
       "  <tbody>\n",
       "    <tr>\n",
       "      <th>2</th>\n",
       "      <td>Y</td>\n",
       "      <td>alpha</td>\n",
       "      <td>0.305235</td>\n",
       "      <td>0.118294</td>\n",
       "    </tr>\n",
       "    <tr>\n",
       "      <th>3</th>\n",
       "      <td>Y</td>\n",
       "      <td>beta</td>\n",
       "      <td>-1.427905</td>\n",
       "      <td>-1.170210</td>\n",
       "    </tr>\n",
       "  </tbody>\n",
       "</table>\n",
       "</div>"
      ],
      "text/plain": [
       "  k1     k2     dset1     dset2\n",
       "2  Y  alpha  0.305235  0.118294\n",
       "3  Y   beta -1.427905 -1.170210"
      ]
     },
     "execution_count": 35,
     "metadata": {},
     "output_type": "execute_result"
    }
   ],
   "source": [
    "grp_dict['Y']"
   ]
  },
  {
   "cell_type": "code",
   "execution_count": 38,
   "id": "71945f34-08a8-43aa-a9d2-a60a2de48509",
   "metadata": {},
   "outputs": [
    {
     "name": "stderr",
     "output_type": "stream",
     "text": [
      "C:\\Users\\HP\\AppData\\Local\\Temp\\ipykernel_8624\\1733985262.py:1: FutureWarning: DataFrame.groupby with axis=1 is deprecated. Do `frame.T.groupby(...)` without axis instead.\n",
      "  grp_dict = dict(list(dframe1.groupby(dframe1.dtypes, axis =1)))\n"
     ]
    },
    {
     "data": {
      "text/plain": [
       "{dtype('float64'):       dset1     dset2\n",
       " 0 -1.810550  0.794812\n",
       " 1 -0.312680 -0.144433\n",
       " 2  0.305235  0.118294\n",
       " 3 -1.427905 -1.170210\n",
       " 4  1.304895  1.742246,\n",
       " dtype('O'):   k1     k2\n",
       " 0  X  alpha\n",
       " 1  X   beta\n",
       " 2  Y  alpha\n",
       " 3  Y   beta\n",
       " 4  Z  alpha}"
      ]
     },
     "execution_count": 38,
     "metadata": {},
     "output_type": "execute_result"
    }
   ],
   "source": [
    "grp_dict = dict(list(dframe1.groupby(dframe1.dtypes, axis =1)))\n",
    "grp_dict"
   ]
  },
  {
   "cell_type": "code",
   "execution_count": 45,
   "id": "45f113b6-af9f-4dd7-93bc-9159208aad5f",
   "metadata": {},
   "outputs": [
    {
     "data": {
      "text/plain": [
       "<pandas.core.groupby.generic.DataFrameGroupBy object at 0x000001E418303990>"
      ]
     },
     "execution_count": 45,
     "metadata": {},
     "output_type": "execute_result"
    }
   ],
   "source": [
    "dframe1.T.groupby(list(dframe1.dtypes))"
   ]
  },
  {
   "cell_type": "code",
   "execution_count": 61,
   "id": "9250fa9e-cc45-4951-bc49-464af368278b",
   "metadata": {},
   "outputs": [
    {
     "ename": "AttributeError",
     "evalue": "'tuple' object has no attribute 'mean'",
     "output_type": "error",
     "traceback": [
      "\u001b[1;31m---------------------------------------------------------------------------\u001b[0m",
      "\u001b[1;31mAttributeError\u001b[0m                            Traceback (most recent call last)",
      "Cell \u001b[1;32mIn[61], line 2\u001b[0m\n\u001b[0;32m      1\u001b[0m dtset \u001b[38;5;241m=\u001b[39m dframe1\u001b[38;5;241m.\u001b[39mgroupby([\u001b[38;5;124m'\u001b[39m\u001b[38;5;124mk1\u001b[39m\u001b[38;5;124m'\u001b[39m,\u001b[38;5;124m'\u001b[39m\u001b[38;5;124mk2\u001b[39m\u001b[38;5;124m'\u001b[39m]),[\u001b[38;5;124m'\u001b[39m\u001b[38;5;124mdtset\u001b[39m\u001b[38;5;124m'\u001b[39m]\n\u001b[1;32m----> 2\u001b[0m dtset\u001b[38;5;241m.\u001b[39mmean()\n",
      "\u001b[1;31mAttributeError\u001b[0m: 'tuple' object has no attribute 'mean'"
     ]
    }
   ],
   "source": [
    "dtset = dframe1.groupby(['k1','k2']),['dtset']\n",
    "dtset.mean()"
   ]
  },
  {
   "cell_type": "code",
   "execution_count": null,
   "id": "beee3d74-10dc-4951-8249-c0d61b43bff2",
   "metadata": {},
   "outputs": [],
   "source": []
  },
  {
   "cell_type": "code",
   "execution_count": null,
   "id": "77d1c1b7-e6d3-46e8-96c0-5ce6e3fe7055",
   "metadata": {},
   "outputs": [],
   "source": []
  }
 ],
 "metadata": {
  "kernelspec": {
   "display_name": "Python 3 (ipykernel)",
   "language": "python",
   "name": "python3"
  },
  "language_info": {
   "codemirror_mode": {
    "name": "ipython",
    "version": 3
   },
   "file_extension": ".py",
   "mimetype": "text/x-python",
   "name": "python",
   "nbconvert_exporter": "python",
   "pygments_lexer": "ipython3",
   "version": "3.11.7"
  }
 },
 "nbformat": 4,
 "nbformat_minor": 5
}
