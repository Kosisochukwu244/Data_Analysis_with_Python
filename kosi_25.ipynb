{
 "cells": [
  {
   "cell_type": "code",
   "execution_count": 18,
   "id": "388ff1c6-e6bd-4a41-98e2-a3c6c30d08d8",
   "metadata": {},
   "outputs": [
    {
     "name": "stdout",
     "output_type": "stream",
     "text": [
      "24\n"
     ]
    }
   ],
   "source": [
    "def kosi(k):\n",
    "    if k <= 1:\n",
    "        return 1\n",
    "    else:\n",
    "        return k * kosi (k-1)\n",
    "\n",
    "print(kosi(4))"
   ]
  },
  {
   "cell_type": "markdown",
   "id": "6c1abe71-4a4d-4e12-bc98-08fccad03000",
   "metadata": {},
   "source": [
    "An explanation to the above code:\n",
    "\n",
    "i defined a function 'kosi' which takes one argument 'k'\n",
    "the statement 'if k <=1' is a condition which retuns 1 if the condition is met \n",
    "if the above condition isn't met , it returns itself by calling itself again - This is a RECURSIVE call\n",
    "\n",
    "so 4 * (4-1)\n",
    "   3 * (3-1)\n",
    "   2 * (2-1)\n",
    "   1 * (conditon satisfied so it breaks the call)\n",
    "\n",
    "The final result will print out : 4*3*2*1 = 24 \n",
    "\n",
    "  "
   ]
  },
  {
   "cell_type": "markdown",
   "id": "8113719b-5ba1-47dc-b85f-3c38d2fd41d6",
   "metadata": {},
   "source": [
    "An explanation to the above code:\r\n",
    "\r\n",
    "i defined a function 'kosi' which takes one argument 'k' the statement 'if k <=1' is a condition which retuns 1 if the condition is met if the above condition isn't met , it returns itself by calling itself again - This is a RECURSIVE call\r\n",
    "\r\n",
    "so 4 * (4-1) 3 * (3-1) 2 * (2-1) 1 * (conditon satisfied so it breaks the call)\r\n",
    "\r\n",
    "The final result will print out : 432*1 = 24\r\n",
    "\r\n"
   ]
  },
  {
   "cell_type": "raw",
   "id": "b4ad5db0-9d05-4e4b-8733-e80dee248441",
   "metadata": {},
   "source": [
    "An explanation to the above code:\n",
    "\n",
    "i defined a function 'kosi' which takes one argument 'k' the statement 'if k <=1' is a condition which retuns 1 if the condition is met if the above condition isn't met , it returns itself by calling itself again - This is a RECURSIVE call\n",
    "\n",
    "so 4 * (4-1) 3 * (3-1) 2 * (2-1) 1 * (conditon satisfied so it breaks the call)\n",
    "\n",
    "The final result will print out : 432*1 = 24\n",
    "\n"
   ]
  },
  {
   "cell_type": "code",
   "execution_count": 20,
   "id": "0f47820a-bc62-493a-a49e-ccc3109f708f",
   "metadata": {},
   "outputs": [
    {
     "data": {
      "text/plain": [
       "[5, 6, 7, 8]"
      ]
     },
     "execution_count": 20,
     "metadata": {},
     "output_type": "execute_result"
    }
   ],
   "source": [
    "h = [5,6,7,8]\n",
    "h"
   ]
  },
  {
   "cell_type": "code",
   "execution_count": 21,
   "id": "e39be727-f3c8-4d8b-91bb-a4b4cc9e0e26",
   "metadata": {},
   "outputs": [
    {
     "data": {
      "text/plain": [
       "8"
      ]
     },
     "execution_count": 21,
     "metadata": {},
     "output_type": "execute_result"
    }
   ],
   "source": [
    "h.pop()"
   ]
  },
  {
   "cell_type": "code",
   "execution_count": 25,
   "id": "1583d4f9-1253-4906-baf8-ae0d404f2c05",
   "metadata": {},
   "outputs": [
    {
     "data": {
      "text/plain": [
       "7"
      ]
     },
     "execution_count": 25,
     "metadata": {},
     "output_type": "execute_result"
    }
   ],
   "source": [
    "h.pop(0)"
   ]
  },
  {
   "cell_type": "code",
   "execution_count": 27,
   "id": "6cd40213-eb71-4d54-8926-2124f9872fe6",
   "metadata": {},
   "outputs": [
    {
     "name": "stdout",
     "output_type": "stream",
     "text": [
      "h\n"
     ]
    }
   ],
   "source": [
    "print('h')"
   ]
  },
  {
   "cell_type": "code",
   "execution_count": null,
   "id": "4efdc36d-fb43-4496-977e-c870297a329f",
   "metadata": {},
   "outputs": [],
   "source": []
  }
 ],
 "metadata": {
  "kernelspec": {
   "display_name": "Python 3 (ipykernel)",
   "language": "python",
   "name": "python3"
  },
  "language_info": {
   "codemirror_mode": {
    "name": "ipython",
    "version": 3
   },
   "file_extension": ".py",
   "mimetype": "text/x-python",
   "name": "python",
   "nbconvert_exporter": "python",
   "pygments_lexer": "ipython3",
   "version": "3.12.4"
  }
 },
 "nbformat": 4,
 "nbformat_minor": 5
}
