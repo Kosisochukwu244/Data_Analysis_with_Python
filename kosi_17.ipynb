{
 "cells": [
  {
   "cell_type": "code",
   "execution_count": 1,
   "id": "699ff347-1aba-4a37-9c3a-d67e920dbd28",
   "metadata": {},
   "outputs": [],
   "source": [
    "import numpy as np\n",
    "\n",
    "import pandas as pd\n",
    "\n",
    "from pandas import Series, DataFrame "
   ]
  },
  {
   "cell_type": "markdown",
   "id": "54a6e671-655b-4817-822b-a0a3d759126d",
   "metadata": {},
   "source": [
    "on Binning"
   ]
  },
  {
   "cell_type": "code",
   "execution_count": 2,
   "id": "d8412643-5021-4d93-baee-016b5d1e406f",
   "metadata": {},
   "outputs": [
    {
     "data": {
      "text/plain": [
       "[1990, 1991, 1992, 2008, 2012, 2015, 1987, 1969, 2013, 2008, 1999]"
      ]
     },
     "execution_count": 2,
     "metadata": {},
     "output_type": "execute_result"
    }
   ],
   "source": [
    "years = [1990,1991,1992,2008,2012,2015,1987,1969,2013,2008,1999]\n",
    "years"
   ]
  },
  {
   "cell_type": "code",
   "execution_count": 3,
   "id": "ae41888a-227f-4214-b284-5b92591fed92",
   "metadata": {},
   "outputs": [],
   "source": [
    "decade_bins = [1960,1970,1980,1990,2000,2010,2020]"
   ]
  },
  {
   "cell_type": "code",
   "execution_count": 4,
   "id": "2dcb3027-560a-45bb-b5b7-0d291467885b",
   "metadata": {},
   "outputs": [
    {
     "data": {
      "text/plain": [
       "[(1980, 1990], (1990, 2000], (1990, 2000], (2000, 2010], (2010, 2020], ..., (1980, 1990], (1960, 1970], (2010, 2020], (2000, 2010], (1990, 2000]]\n",
       "Length: 11\n",
       "Categories (6, interval[int64, right]): [(1960, 1970] < (1970, 1980] < (1980, 1990] < (1990, 2000] < (2000, 2010] < (2010, 2020]]"
      ]
     },
     "execution_count": 4,
     "metadata": {},
     "output_type": "execute_result"
    }
   ],
   "source": [
    "decade_cat = pd.cut(years,decade_bins)\n",
    "decade_cat"
   ]
  },
  {
   "cell_type": "code",
   "execution_count": 5,
   "id": "adf219ab-3663-47a6-995c-c2292ea75975",
   "metadata": {},
   "outputs": [
    {
     "data": {
      "text/plain": [
       "(1990, 2000]    3\n",
       "(2010, 2020]    3\n",
       "(1980, 1990]    2\n",
       "(2000, 2010]    2\n",
       "(1960, 1970]    1\n",
       "(1970, 1980]    0\n",
       "Name: count, dtype: int64"
      ]
     },
     "execution_count": 5,
     "metadata": {},
     "output_type": "execute_result"
    }
   ],
   "source": [
    "pd.Series(decade_cat).value_counts()"
   ]
  },
  {
   "cell_type": "code",
   "execution_count": 6,
   "id": "dc18a879-cfe4-4b97-ae17-89fdf517029c",
   "metadata": {},
   "outputs": [
    {
     "name": "stderr",
     "output_type": "stream",
     "text": [
      "C:\\Users\\HP\\AppData\\Local\\Temp\\ipykernel_5632\\3082337819.py:1: FutureWarning: pandas.value_counts is deprecated and will be removed in a future version. Use pd.Series(obj).value_counts() instead.\n",
      "  pd.value_counts(decade_cat)\n"
     ]
    },
    {
     "data": {
      "text/plain": [
       "(1990, 2000]    3\n",
       "(2010, 2020]    3\n",
       "(1980, 1990]    2\n",
       "(2000, 2010]    2\n",
       "(1960, 1970]    1\n",
       "(1970, 1980]    0\n",
       "Name: count, dtype: int64"
      ]
     },
     "execution_count": 6,
     "metadata": {},
     "output_type": "execute_result"
    }
   ],
   "source": [
    "pd.value_counts(decade_cat)"
   ]
  },
  {
   "cell_type": "code",
   "execution_count": 7,
   "id": "de43529c-11b0-45ce-af61-e2edbb7cc5cb",
   "metadata": {},
   "outputs": [
    {
     "data": {
      "text/plain": [
       "[(1969.0, 1992.0], (1969.0, 1992.0], (1969.0, 1992.0], (1992.0, 2015.0], (1992.0, 2015.0], ..., (1969.0, 1992.0], (1969.0, 1992.0], (1992.0, 2015.0], (1992.0, 2015.0], (1992.0, 2015.0]]\n",
       "Length: 11\n",
       "Categories (2, interval[float64, right]): [(1969.0, 1992.0] < (1992.0, 2015.0]]"
      ]
     },
     "execution_count": 7,
     "metadata": {},
     "output_type": "execute_result"
    }
   ],
   "source": [
    "pd.cut(years,2,precision = 1)"
   ]
  },
  {
   "cell_type": "code",
   "execution_count": 8,
   "id": "fbdd33a2-c35d-49ef-aec4-272ef81fecac",
   "metadata": {},
   "outputs": [
    {
     "data": {
      "text/plain": [
       "IntervalIndex([(1960, 1970], (1970, 1980], (1980, 1990], (1990, 2000], (2000, 2010], (2010, 2020]], dtype='interval[int64, right]')"
      ]
     },
     "execution_count": 8,
     "metadata": {},
     "output_type": "execute_result"
    }
   ],
   "source": [
    "decade_cat.categories"
   ]
  },
  {
   "cell_type": "markdown",
   "id": "2779bd71-b69e-44d2-b57e-b99ac17e2a87",
   "metadata": {},
   "source": [
    "finding outliers in a Dataset"
   ]
  },
  {
   "cell_type": "code",
   "execution_count": 9,
   "id": "3effcbd8-608b-4eac-9f53-b344e85ecb1f",
   "metadata": {},
   "outputs": [],
   "source": [
    "np.random.seed(12345678)"
   ]
  },
  {
   "cell_type": "code",
   "execution_count": 10,
   "id": "bc5d829d-5298-444b-a761-e8b048ff7601",
   "metadata": {},
   "outputs": [
    {
     "data": {
      "text/html": [
       "<div>\n",
       "<style scoped>\n",
       "    .dataframe tbody tr th:only-of-type {\n",
       "        vertical-align: middle;\n",
       "    }\n",
       "\n",
       "    .dataframe tbody tr th {\n",
       "        vertical-align: top;\n",
       "    }\n",
       "\n",
       "    .dataframe thead th {\n",
       "        text-align: right;\n",
       "    }\n",
       "</style>\n",
       "<table border=\"1\" class=\"dataframe\">\n",
       "  <thead>\n",
       "    <tr style=\"text-align: right;\">\n",
       "      <th></th>\n",
       "      <th>0</th>\n",
       "      <th>1</th>\n",
       "      <th>2</th>\n",
       "      <th>3</th>\n",
       "      <th>4</th>\n",
       "      <th>5</th>\n",
       "      <th>6</th>\n",
       "    </tr>\n",
       "  </thead>\n",
       "  <tbody>\n",
       "    <tr>\n",
       "      <th>0</th>\n",
       "      <td>0.553708</td>\n",
       "      <td>-1.459632</td>\n",
       "      <td>-1.294585</td>\n",
       "      <td>-1.509674</td>\n",
       "      <td>1.571875</td>\n",
       "      <td>-0.975696</td>\n",
       "      <td>0.480699</td>\n",
       "    </tr>\n",
       "    <tr>\n",
       "      <th>1</th>\n",
       "      <td>0.625614</td>\n",
       "      <td>0.722353</td>\n",
       "      <td>0.910326</td>\n",
       "      <td>0.052467</td>\n",
       "      <td>-1.400124</td>\n",
       "      <td>-0.164340</td>\n",
       "      <td>-0.669418</td>\n",
       "    </tr>\n",
       "    <tr>\n",
       "      <th>2</th>\n",
       "      <td>0.711979</td>\n",
       "      <td>0.855321</td>\n",
       "      <td>0.176463</td>\n",
       "      <td>1.069086</td>\n",
       "      <td>0.506566</td>\n",
       "      <td>0.713538</td>\n",
       "      <td>0.671555</td>\n",
       "    </tr>\n",
       "    <tr>\n",
       "      <th>3</th>\n",
       "      <td>1.048823</td>\n",
       "      <td>-0.037207</td>\n",
       "      <td>0.055703</td>\n",
       "      <td>1.920795</td>\n",
       "      <td>1.071814</td>\n",
       "      <td>0.857649</td>\n",
       "      <td>0.678237</td>\n",
       "    </tr>\n",
       "    <tr>\n",
       "      <th>4</th>\n",
       "      <td>-1.183241</td>\n",
       "      <td>-0.928932</td>\n",
       "      <td>-0.234549</td>\n",
       "      <td>-0.981314</td>\n",
       "      <td>1.278519</td>\n",
       "      <td>1.119017</td>\n",
       "      <td>1.063490</td>\n",
       "    </tr>\n",
       "    <tr>\n",
       "      <th>...</th>\n",
       "      <td>...</td>\n",
       "      <td>...</td>\n",
       "      <td>...</td>\n",
       "      <td>...</td>\n",
       "      <td>...</td>\n",
       "      <td>...</td>\n",
       "      <td>...</td>\n",
       "    </tr>\n",
       "    <tr>\n",
       "      <th>995</th>\n",
       "      <td>1.367835</td>\n",
       "      <td>-2.157092</td>\n",
       "      <td>-1.024344</td>\n",
       "      <td>-0.752065</td>\n",
       "      <td>0.535733</td>\n",
       "      <td>1.452590</td>\n",
       "      <td>-0.574393</td>\n",
       "    </tr>\n",
       "    <tr>\n",
       "      <th>996</th>\n",
       "      <td>-1.737098</td>\n",
       "      <td>0.189778</td>\n",
       "      <td>1.458399</td>\n",
       "      <td>1.257175</td>\n",
       "      <td>-0.282861</td>\n",
       "      <td>-0.427808</td>\n",
       "      <td>-1.520601</td>\n",
       "    </tr>\n",
       "    <tr>\n",
       "      <th>997</th>\n",
       "      <td>0.872554</td>\n",
       "      <td>1.451905</td>\n",
       "      <td>-0.125553</td>\n",
       "      <td>0.330650</td>\n",
       "      <td>0.277324</td>\n",
       "      <td>0.329991</td>\n",
       "      <td>-2.388250</td>\n",
       "    </tr>\n",
       "    <tr>\n",
       "      <th>998</th>\n",
       "      <td>1.259164</td>\n",
       "      <td>1.277471</td>\n",
       "      <td>-0.760622</td>\n",
       "      <td>-1.184819</td>\n",
       "      <td>-0.159670</td>\n",
       "      <td>-0.691063</td>\n",
       "      <td>-1.209541</td>\n",
       "    </tr>\n",
       "    <tr>\n",
       "      <th>999</th>\n",
       "      <td>0.676205</td>\n",
       "      <td>-0.558768</td>\n",
       "      <td>-0.649203</td>\n",
       "      <td>1.083354</td>\n",
       "      <td>2.067062</td>\n",
       "      <td>-1.112462</td>\n",
       "      <td>-0.360867</td>\n",
       "    </tr>\n",
       "  </tbody>\n",
       "</table>\n",
       "<p>1000 rows × 7 columns</p>\n",
       "</div>"
      ],
      "text/plain": [
       "            0         1         2         3         4         5         6\n",
       "0    0.553708 -1.459632 -1.294585 -1.509674  1.571875 -0.975696  0.480699\n",
       "1    0.625614  0.722353  0.910326  0.052467 -1.400124 -0.164340 -0.669418\n",
       "2    0.711979  0.855321  0.176463  1.069086  0.506566  0.713538  0.671555\n",
       "3    1.048823 -0.037207  0.055703  1.920795  1.071814  0.857649  0.678237\n",
       "4   -1.183241 -0.928932 -0.234549 -0.981314  1.278519  1.119017  1.063490\n",
       "..        ...       ...       ...       ...       ...       ...       ...\n",
       "995  1.367835 -2.157092 -1.024344 -0.752065  0.535733  1.452590 -0.574393\n",
       "996 -1.737098  0.189778  1.458399  1.257175 -0.282861 -0.427808 -1.520601\n",
       "997  0.872554  1.451905 -0.125553  0.330650  0.277324  0.329991 -2.388250\n",
       "998  1.259164  1.277471 -0.760622 -1.184819 -0.159670 -0.691063 -1.209541\n",
       "999  0.676205 -0.558768 -0.649203  1.083354  2.067062 -1.112462 -0.360867\n",
       "\n",
       "[1000 rows x 7 columns]"
      ]
     },
     "execution_count": 10,
     "metadata": {},
     "output_type": "execute_result"
    }
   ],
   "source": [
    "dframek = DataFrame(np.random.randn(1000,7))\n",
    "dframek"
   ]
  },
  {
   "cell_type": "code",
   "execution_count": 11,
   "id": "0937d531-7ce3-4c1d-8cb3-ffb04ac2cbda",
   "metadata": {},
   "outputs": [
    {
     "data": {
      "text/html": [
       "<div>\n",
       "<style scoped>\n",
       "    .dataframe tbody tr th:only-of-type {\n",
       "        vertical-align: middle;\n",
       "    }\n",
       "\n",
       "    .dataframe tbody tr th {\n",
       "        vertical-align: top;\n",
       "    }\n",
       "\n",
       "    .dataframe thead th {\n",
       "        text-align: right;\n",
       "    }\n",
       "</style>\n",
       "<table border=\"1\" class=\"dataframe\">\n",
       "  <thead>\n",
       "    <tr style=\"text-align: right;\">\n",
       "      <th></th>\n",
       "      <th>0</th>\n",
       "      <th>1</th>\n",
       "      <th>2</th>\n",
       "      <th>3</th>\n",
       "      <th>4</th>\n",
       "      <th>5</th>\n",
       "      <th>6</th>\n",
       "    </tr>\n",
       "  </thead>\n",
       "  <tbody>\n",
       "    <tr>\n",
       "      <th>count</th>\n",
       "      <td>1000.000000</td>\n",
       "      <td>1000.000000</td>\n",
       "      <td>1000.000000</td>\n",
       "      <td>1000.000000</td>\n",
       "      <td>1000.000000</td>\n",
       "      <td>1000.000000</td>\n",
       "      <td>1000.000000</td>\n",
       "    </tr>\n",
       "    <tr>\n",
       "      <th>mean</th>\n",
       "      <td>0.024703</td>\n",
       "      <td>-0.023919</td>\n",
       "      <td>0.008233</td>\n",
       "      <td>0.001845</td>\n",
       "      <td>0.008448</td>\n",
       "      <td>-0.010041</td>\n",
       "      <td>0.042061</td>\n",
       "    </tr>\n",
       "    <tr>\n",
       "      <th>std</th>\n",
       "      <td>1.013501</td>\n",
       "      <td>0.981784</td>\n",
       "      <td>1.009153</td>\n",
       "      <td>1.014025</td>\n",
       "      <td>1.018587</td>\n",
       "      <td>1.018643</td>\n",
       "      <td>0.986205</td>\n",
       "    </tr>\n",
       "    <tr>\n",
       "      <th>min</th>\n",
       "      <td>-3.254116</td>\n",
       "      <td>-3.205353</td>\n",
       "      <td>-3.062957</td>\n",
       "      <td>-3.105699</td>\n",
       "      <td>-3.180474</td>\n",
       "      <td>-2.836288</td>\n",
       "      <td>-3.416460</td>\n",
       "    </tr>\n",
       "    <tr>\n",
       "      <th>25%</th>\n",
       "      <td>-0.665198</td>\n",
       "      <td>-0.725004</td>\n",
       "      <td>-0.711066</td>\n",
       "      <td>-0.716608</td>\n",
       "      <td>-0.644051</td>\n",
       "      <td>-0.672289</td>\n",
       "      <td>-0.598708</td>\n",
       "    </tr>\n",
       "    <tr>\n",
       "      <th>50%</th>\n",
       "      <td>0.021251</td>\n",
       "      <td>-0.023808</td>\n",
       "      <td>-0.038979</td>\n",
       "      <td>-0.031576</td>\n",
       "      <td>0.044187</td>\n",
       "      <td>-0.037839</td>\n",
       "      <td>0.047978</td>\n",
       "    </tr>\n",
       "    <tr>\n",
       "      <th>75%</th>\n",
       "      <td>0.742795</td>\n",
       "      <td>0.718688</td>\n",
       "      <td>0.725606</td>\n",
       "      <td>0.665407</td>\n",
       "      <td>0.649733</td>\n",
       "      <td>0.704828</td>\n",
       "      <td>0.713265</td>\n",
       "    </tr>\n",
       "    <tr>\n",
       "      <th>max</th>\n",
       "      <td>3.058248</td>\n",
       "      <td>2.729816</td>\n",
       "      <td>3.831707</td>\n",
       "      <td>3.279984</td>\n",
       "      <td>3.850410</td>\n",
       "      <td>3.154686</td>\n",
       "      <td>2.758940</td>\n",
       "    </tr>\n",
       "  </tbody>\n",
       "</table>\n",
       "</div>"
      ],
      "text/plain": [
       "                 0            1            2            3            4  \\\n",
       "count  1000.000000  1000.000000  1000.000000  1000.000000  1000.000000   \n",
       "mean      0.024703    -0.023919     0.008233     0.001845     0.008448   \n",
       "std       1.013501     0.981784     1.009153     1.014025     1.018587   \n",
       "min      -3.254116    -3.205353    -3.062957    -3.105699    -3.180474   \n",
       "25%      -0.665198    -0.725004    -0.711066    -0.716608    -0.644051   \n",
       "50%       0.021251    -0.023808    -0.038979    -0.031576     0.044187   \n",
       "75%       0.742795     0.718688     0.725606     0.665407     0.649733   \n",
       "max       3.058248     2.729816     3.831707     3.279984     3.850410   \n",
       "\n",
       "                 5            6  \n",
       "count  1000.000000  1000.000000  \n",
       "mean     -0.010041     0.042061  \n",
       "std       1.018643     0.986205  \n",
       "min      -2.836288    -3.416460  \n",
       "25%      -0.672289    -0.598708  \n",
       "50%      -0.037839     0.047978  \n",
       "75%       0.704828     0.713265  \n",
       "max       3.154686     2.758940  "
      ]
     },
     "execution_count": 11,
     "metadata": {},
     "output_type": "execute_result"
    }
   ],
   "source": [
    "dframek.describe()"
   ]
  },
  {
   "cell_type": "code",
   "execution_count": 12,
   "id": "1197a138-f909-4a7d-97a4-b8dfe169b8cb",
   "metadata": {},
   "outputs": [
    {
     "data": {
      "text/plain": [
       "0   -1.459632\n",
       "1    0.722353\n",
       "2    0.855321\n",
       "3   -0.037207\n",
       "4   -0.928932\n",
       "Name: 1, dtype: float64"
      ]
     },
     "execution_count": 12,
     "metadata": {},
     "output_type": "execute_result"
    }
   ],
   "source": [
    "col = dframek[1].head()\n",
    "col"
   ]
  },
  {
   "cell_type": "code",
   "execution_count": 15,
   "id": "f031c898-822d-4d15-8ea8-17ef2f063ee2",
   "metadata": {},
   "outputs": [
    {
     "name": "stderr",
     "output_type": "stream",
     "text": [
      "C:\\Users\\HP\\AppData\\Local\\Temp\\ipykernel_5632\\942702751.py:1: UserWarning: Boolean Series key will be reindexed to match DataFrame index.\n",
      "  dframek[(np.abs(dframek)>3).any()]\n"
     ]
    },
    {
     "ename": "IndexingError",
     "evalue": "Unalignable boolean Series provided as indexer (index of the boolean Series and of the indexed object do not match).",
     "output_type": "error",
     "traceback": [
      "\u001b[1;31m---------------------------------------------------------------------------\u001b[0m",
      "\u001b[1;31mIndexingError\u001b[0m                             Traceback (most recent call last)",
      "Cell \u001b[1;32mIn[15], line 1\u001b[0m\n\u001b[1;32m----> 1\u001b[0m dframek[(np\u001b[38;5;241m.\u001b[39mabs(dframek)\u001b[38;5;241m>\u001b[39m\u001b[38;5;241m3\u001b[39m)\u001b[38;5;241m.\u001b[39many()]\n",
      "File \u001b[1;32m~\\anaconda3\\a4\\Lib\\site-packages\\pandas\\core\\frame.py:3884\u001b[0m, in \u001b[0;36mDataFrame.__getitem__\u001b[1;34m(self, key)\u001b[0m\n\u001b[0;32m   3882\u001b[0m \u001b[38;5;66;03m# Do we have a (boolean) 1d indexer?\u001b[39;00m\n\u001b[0;32m   3883\u001b[0m \u001b[38;5;28;01mif\u001b[39;00m com\u001b[38;5;241m.\u001b[39mis_bool_indexer(key):\n\u001b[1;32m-> 3884\u001b[0m     \u001b[38;5;28;01mreturn\u001b[39;00m \u001b[38;5;28mself\u001b[39m\u001b[38;5;241m.\u001b[39m_getitem_bool_array(key)\n\u001b[0;32m   3886\u001b[0m \u001b[38;5;66;03m# We are left with two options: a single key, and a collection of keys,\u001b[39;00m\n\u001b[0;32m   3887\u001b[0m \u001b[38;5;66;03m# We interpret tuples as collections only for non-MultiIndex\u001b[39;00m\n\u001b[0;32m   3888\u001b[0m is_single_key \u001b[38;5;241m=\u001b[39m \u001b[38;5;28misinstance\u001b[39m(key, \u001b[38;5;28mtuple\u001b[39m) \u001b[38;5;129;01mor\u001b[39;00m \u001b[38;5;129;01mnot\u001b[39;00m is_list_like(key)\n",
      "File \u001b[1;32m~\\anaconda3\\a4\\Lib\\site-packages\\pandas\\core\\frame.py:3940\u001b[0m, in \u001b[0;36mDataFrame._getitem_bool_array\u001b[1;34m(self, key)\u001b[0m\n\u001b[0;32m   3934\u001b[0m     \u001b[38;5;28;01mraise\u001b[39;00m \u001b[38;5;167;01mValueError\u001b[39;00m(\n\u001b[0;32m   3935\u001b[0m         \u001b[38;5;124mf\u001b[39m\u001b[38;5;124m\"\u001b[39m\u001b[38;5;124mItem wrong length \u001b[39m\u001b[38;5;132;01m{\u001b[39;00m\u001b[38;5;28mlen\u001b[39m(key)\u001b[38;5;132;01m}\u001b[39;00m\u001b[38;5;124m instead of \u001b[39m\u001b[38;5;132;01m{\u001b[39;00m\u001b[38;5;28mlen\u001b[39m(\u001b[38;5;28mself\u001b[39m\u001b[38;5;241m.\u001b[39mindex)\u001b[38;5;132;01m}\u001b[39;00m\u001b[38;5;124m.\u001b[39m\u001b[38;5;124m\"\u001b[39m\n\u001b[0;32m   3936\u001b[0m     )\n\u001b[0;32m   3938\u001b[0m \u001b[38;5;66;03m# check_bool_indexer will throw exception if Series key cannot\u001b[39;00m\n\u001b[0;32m   3939\u001b[0m \u001b[38;5;66;03m# be reindexed to match DataFrame rows\u001b[39;00m\n\u001b[1;32m-> 3940\u001b[0m key \u001b[38;5;241m=\u001b[39m check_bool_indexer(\u001b[38;5;28mself\u001b[39m\u001b[38;5;241m.\u001b[39mindex, key)\n\u001b[0;32m   3942\u001b[0m \u001b[38;5;28;01mif\u001b[39;00m key\u001b[38;5;241m.\u001b[39mall():\n\u001b[0;32m   3943\u001b[0m     \u001b[38;5;28;01mreturn\u001b[39;00m \u001b[38;5;28mself\u001b[39m\u001b[38;5;241m.\u001b[39mcopy(deep\u001b[38;5;241m=\u001b[39m\u001b[38;5;28;01mNone\u001b[39;00m)\n",
      "File \u001b[1;32m~\\anaconda3\\a4\\Lib\\site-packages\\pandas\\core\\indexing.py:2575\u001b[0m, in \u001b[0;36mcheck_bool_indexer\u001b[1;34m(index, key)\u001b[0m\n\u001b[0;32m   2573\u001b[0m indexer \u001b[38;5;241m=\u001b[39m result\u001b[38;5;241m.\u001b[39mindex\u001b[38;5;241m.\u001b[39mget_indexer_for(index)\n\u001b[0;32m   2574\u001b[0m \u001b[38;5;28;01mif\u001b[39;00m \u001b[38;5;241m-\u001b[39m\u001b[38;5;241m1\u001b[39m \u001b[38;5;129;01min\u001b[39;00m indexer:\n\u001b[1;32m-> 2575\u001b[0m     \u001b[38;5;28;01mraise\u001b[39;00m IndexingError(\n\u001b[0;32m   2576\u001b[0m         \u001b[38;5;124m\"\u001b[39m\u001b[38;5;124mUnalignable boolean Series provided as \u001b[39m\u001b[38;5;124m\"\u001b[39m\n\u001b[0;32m   2577\u001b[0m         \u001b[38;5;124m\"\u001b[39m\u001b[38;5;124mindexer (index of the boolean Series and of \u001b[39m\u001b[38;5;124m\"\u001b[39m\n\u001b[0;32m   2578\u001b[0m         \u001b[38;5;124m\"\u001b[39m\u001b[38;5;124mthe indexed object do not match).\u001b[39m\u001b[38;5;124m\"\u001b[39m\n\u001b[0;32m   2579\u001b[0m     )\n\u001b[0;32m   2581\u001b[0m result \u001b[38;5;241m=\u001b[39m result\u001b[38;5;241m.\u001b[39mtake(indexer)\n\u001b[0;32m   2583\u001b[0m \u001b[38;5;66;03m# fall through for boolean\u001b[39;00m\n",
      "\u001b[1;31mIndexingError\u001b[0m: Unalignable boolean Series provided as indexer (index of the boolean Series and of the indexed object do not match)."
     ]
    }
   ],
   "source": [
    " dframek[(np.abs(dframek)>3).any()]\n"
   ]
  },
  {
   "cell_type": "code",
   "execution_count": null,
   "id": "5ef30d25-05cc-4fc9-8b6a-432de23d9d1e",
   "metadata": {},
   "outputs": [],
   "source": []
  }
 ],
 "metadata": {
  "kernelspec": {
   "display_name": "Python 3 (ipykernel)",
   "language": "python",
   "name": "python3"
  },
  "language_info": {
   "codemirror_mode": {
    "name": "ipython",
    "version": 3
   },
   "file_extension": ".py",
   "mimetype": "text/x-python",
   "name": "python",
   "nbconvert_exporter": "python",
   "pygments_lexer": "ipython3",
   "version": "3.11.7"
  }
 },
 "nbformat": 4,
 "nbformat_minor": 5
}
