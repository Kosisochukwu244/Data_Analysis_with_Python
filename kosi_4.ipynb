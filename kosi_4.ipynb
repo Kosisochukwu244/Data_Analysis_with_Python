{
 "cells": [
  {
   "cell_type": "code",
   "execution_count": 1,
   "id": "15d8feb5-ef66-4c52-a414-14468c2319ba",
   "metadata": {},
   "outputs": [],
   "source": [
    "import numpy as np\n",
    "import pandas as pd\n",
    "from pandas import Series,DataFrame\n"
   ]
  },
  {
   "cell_type": "code",
   "execution_count": 2,
   "id": "2cd32b62-bd86-4f2e-ae60-a99f75931b6d",
   "metadata": {},
   "outputs": [
    {
     "data": {
      "text/plain": [
       "True"
      ]
     },
     "execution_count": 2,
     "metadata": {},
     "output_type": "execute_result"
    }
   ],
   "source": [
    "import webbrowser\n",
    "website = \"http://en.wikipedia.org/wiki/NFL_win-loss_records\"\n",
    "webbrowser.open(website)                                                                         "
   ]
  },
  {
   "cell_type": "code",
   "execution_count": 3,
   "id": "f40588e6-033d-4c20-933e-c44c12ce3c4c",
   "metadata": {},
   "outputs": [
    {
     "data": {
      "text/html": [
       "<div>\n",
       "<style scoped>\n",
       "    .dataframe tbody tr th:only-of-type {\n",
       "        vertical-align: middle;\n",
       "    }\n",
       "\n",
       "    .dataframe tbody tr th {\n",
       "        vertical-align: top;\n",
       "    }\n",
       "\n",
       "    .dataframe thead th {\n",
       "        text-align: right;\n",
       "    }\n",
       "</style>\n",
       "<table border=\"1\" class=\"dataframe\">\n",
       "  <thead>\n",
       "    <tr style=\"text-align: right;\">\n",
       "      <th></th>\n",
       "      <th>nfl_frame.Team</th>\n",
       "    </tr>\n",
       "  </thead>\n",
       "  <tbody>\n",
       "  </tbody>\n",
       "</table>\n",
       "</div>"
      ],
      "text/plain": [
       "Empty DataFrame\n",
       "Columns: [nfl_frame.Team]\n",
       "Index: []"
      ]
     },
     "execution_count": 3,
     "metadata": {},
     "output_type": "execute_result"
    }
   ],
   "source": [
    "nfl_frame = pd .read_clipboard()\n",
    "nfl_frame \n",
    "\n",
    "\n"
   ]
  },
  {
   "cell_type": "code",
   "execution_count": 4,
   "id": "52b5ade8-e0bb-4f16-a5bb-26553b043455",
   "metadata": {},
   "outputs": [
    {
     "data": {
      "text/plain": [
       "Index(['nfl_frame.Team'], dtype='object')"
      ]
     },
     "execution_count": 4,
     "metadata": {},
     "output_type": "execute_result"
    }
   ],
   "source": [
    "nfl_frame.columns"
   ]
  },
  {
   "cell_type": "code",
   "execution_count": 5,
   "id": "44d6ad5b-8cce-40ef-b547-a348da0ac0ef",
   "metadata": {},
   "outputs": [
    {
     "ename": "AttributeError",
     "evalue": "'DataFrame' object has no attribute 'Team'",
     "output_type": "error",
     "traceback": [
      "\u001b[1;31m---------------------------------------------------------------------------\u001b[0m",
      "\u001b[1;31mAttributeError\u001b[0m                            Traceback (most recent call last)",
      "\u001b[1;32m~\\AppData\\Local\\Temp\\ipykernel_1672\\3961332770.py\u001b[0m in \u001b[0;36m?\u001b[1;34m()\u001b[0m\n\u001b[1;32m----> 1\u001b[1;33m \u001b[0mnfl_frame\u001b[0m\u001b[1;33m.\u001b[0m\u001b[0mTeam\u001b[0m\u001b[1;33m\u001b[0m\u001b[1;33m\u001b[0m\u001b[0m\n\u001b[0m",
      "\u001b[1;32m~\\anaconda3\\a4\\Lib\\site-packages\\pandas\\core\\generic.py\u001b[0m in \u001b[0;36m?\u001b[1;34m(self, name)\u001b[0m\n\u001b[0;32m   6200\u001b[0m             \u001b[1;32mand\u001b[0m \u001b[0mname\u001b[0m \u001b[1;32mnot\u001b[0m \u001b[1;32min\u001b[0m \u001b[0mself\u001b[0m\u001b[1;33m.\u001b[0m\u001b[0m_accessors\u001b[0m\u001b[1;33m\u001b[0m\u001b[1;33m\u001b[0m\u001b[0m\n\u001b[0;32m   6201\u001b[0m             \u001b[1;32mand\u001b[0m \u001b[0mself\u001b[0m\u001b[1;33m.\u001b[0m\u001b[0m_info_axis\u001b[0m\u001b[1;33m.\u001b[0m\u001b[0m_can_hold_identifiers_and_holds_name\u001b[0m\u001b[1;33m(\u001b[0m\u001b[0mname\u001b[0m\u001b[1;33m)\u001b[0m\u001b[1;33m\u001b[0m\u001b[1;33m\u001b[0m\u001b[0m\n\u001b[0;32m   6202\u001b[0m         ):\n\u001b[0;32m   6203\u001b[0m             \u001b[1;32mreturn\u001b[0m \u001b[0mself\u001b[0m\u001b[1;33m[\u001b[0m\u001b[0mname\u001b[0m\u001b[1;33m]\u001b[0m\u001b[1;33m\u001b[0m\u001b[1;33m\u001b[0m\u001b[0m\n\u001b[1;32m-> 6204\u001b[1;33m         \u001b[1;32mreturn\u001b[0m \u001b[0mobject\u001b[0m\u001b[1;33m.\u001b[0m\u001b[0m__getattribute__\u001b[0m\u001b[1;33m(\u001b[0m\u001b[0mself\u001b[0m\u001b[1;33m,\u001b[0m \u001b[0mname\u001b[0m\u001b[1;33m)\u001b[0m\u001b[1;33m\u001b[0m\u001b[1;33m\u001b[0m\u001b[0m\n\u001b[0m",
      "\u001b[1;31mAttributeError\u001b[0m: 'DataFrame' object has no attribute 'Team'"
     ]
    }
   ],
   "source": [
    "nfl_frame.Team"
   ]
  },
  {
   "cell_type": "code",
   "execution_count": null,
   "id": "06e40234-7de9-405d-9c1a-a5435ea4be38",
   "metadata": {},
   "outputs": [],
   "source": [
    "nfl_frame['First NFL season']"
   ]
  },
  {
   "cell_type": "code",
   "execution_count": null,
   "id": "931e9219-9c7f-4973-8d8f-7af9cda8f220",
   "metadata": {},
   "outputs": [],
   "source": [
    "DataFrame(nfl_frame,columns=['GP','Won','Lost'])"
   ]
  },
  {
   "cell_type": "code",
   "execution_count": null,
   "id": "513567d3-2e77-4b72-9a54-7b4a8f89ca39",
   "metadata": {},
   "outputs": [],
   "source": [
    "nfl_frame.head(2)"
   ]
  },
  {
   "cell_type": "code",
   "execution_count": null,
   "id": "511ab23a-6d3f-4381-8561-f82192994bf2",
   "metadata": {},
   "outputs": [],
   "source": [
    "nfl_frame.tail(3)"
   ]
  },
  {
   "cell_type": "code",
   "execution_count": null,
   "id": "11daff99-3a55-47a7-b291-2d56a8d75a74",
   "metadata": {},
   "outputs": [],
   "source": [
    "nfl_frame.index[2]"
   ]
  },
  {
   "cell_type": "code",
   "execution_count": null,
   "id": "15c5adeb-0fc0-4eaa-b69f-ebbb78e45941",
   "metadata": {},
   "outputs": [],
   "source": [
    "nfl_frame['club']= \"ethihad\", \"swsiw\",\"kosi\",\"edjoo\",\"idwikq\"\n",
    "nfl_frame"
   ]
  },
  {
   "cell_type": "code",
   "execution_count": null,
   "id": "515463fd-5b08-4c79-869d-acb8edab2a17",
   "metadata": {},
   "outputs": [],
   "source": [
    "kosi= Series(['mcity','mu','liverp'],index=[2,3,4])\n",
    "kosi"
   ]
  },
  {
   "cell_type": "code",
   "execution_count": null,
   "id": "e9309371-e279-40c4-9e83-1e381f384932",
   "metadata": {},
   "outputs": [],
   "source": [
    "kosi.name= 'hey'\n",
    "kosi"
   ]
  },
  {
   "cell_type": "code",
   "execution_count": null,
   "id": "4840f5cf-8ed2-4a59-a953-ad33219a97ae",
   "metadata": {},
   "outputs": [],
   "source": [
    "nfl_frame['Team']= kosi\n",
    "nfl_frame"
   ]
  },
  {
   "cell_type": "code",
   "execution_count": null,
   "id": "15a7fc1b-426f-4857-a483-e8aee325b030",
   "metadata": {},
   "outputs": [],
   "source": [
    "del nfl_frame['GP']\n",
    "nfl_frame"
   ]
  },
  {
   "cell_type": "code",
   "execution_count": null,
   "id": "dad43c9e-25ca-47e4-8a16-797d83787ad6",
   "metadata": {},
   "outputs": [],
   "source": [
    "info= {'state':['enugu','nas.','bauchi'],'religion':['christianity','christianity & islam','christianity',]}\n"
   ]
  },
  {
   "cell_type": "code",
   "execution_count": 6,
   "id": "bafe0503-1eb6-4c11-9a11-000b36194b12",
   "metadata": {},
   "outputs": [
    {
     "ename": "NameError",
     "evalue": "name 'info' is not defined",
     "output_type": "error",
     "traceback": [
      "\u001b[1;31m---------------------------------------------------------------------------\u001b[0m",
      "\u001b[1;31mNameError\u001b[0m                                 Traceback (most recent call last)",
      "Cell \u001b[1;32mIn[6], line 1\u001b[0m\n\u001b[1;32m----> 1\u001b[0m info_frame \u001b[38;5;241m=\u001b[39m DataFrame(info)\n\u001b[0;32m      2\u001b[0m info_frame\n",
      "\u001b[1;31mNameError\u001b[0m: name 'info' is not defined"
     ]
    }
   ],
   "source": [
    "info_frame = DataFrame(info)\n",
    "info_frame"
   ]
  },
  {
   "cell_type": "code",
   "execution_count": null,
   "id": "d581d57d-cd6c-4fdb-aa87-954a5b9225af",
   "metadata": {},
   "outputs": [],
   "source": []
  },
  {
   "cell_type": "code",
   "execution_count": null,
   "id": "14bdedad-3aaf-491b-b357-8248e25fc27a",
   "metadata": {},
   "outputs": [],
   "source": []
  }
 ],
 "metadata": {
  "kernelspec": {
   "display_name": "Python 3 (ipykernel)",
   "language": "python",
   "name": "python3"
  },
  "language_info": {
   "codemirror_mode": {
    "name": "ipython",
    "version": 3
   },
   "file_extension": ".py",
   "mimetype": "text/x-python",
   "name": "python",
   "nbconvert_exporter": "python",
   "pygments_lexer": "ipython3",
   "version": "3.11.7"
  }
 },
 "nbformat": 4,
 "nbformat_minor": 5
}
